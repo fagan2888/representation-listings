{
 "cells": [
  {
   "cell_type": "markdown",
   "metadata": {},
   "source": [
    "# To what extend are census tracts over- or under-represented in Craigslist rental listings?\n",
    "\n",
    "For each city, get all rental listings and get count per tract. For each tract that has at least one listing, get census variables (2014 ACS DP) including number of renter-occupied units. Calculate each tract's share of total renter-occupied units. Then allocate the number of listings proportionally according to that share. Then compare how proportional allocation compares to Craigslist allocation."
   ]
  },
  {
   "cell_type": "code",
   "execution_count": 1,
   "metadata": {},
   "outputs": [],
   "source": [
    "import geopandas as gpd\n",
    "import matplotlib.pyplot as plt\n",
    "import numpy as np\n",
    "import osmnx as ox\n",
    "import pandas as pd\n",
    "from pandas.plotting import scatter_matrix\n",
    "from scipy import stats\n",
    "from scipy.stats.mstats import zscore\n",
    "from shapely.geometry import Point\n",
    "from statsmodels.stats.outliers_influence import variance_inflation_factor as vif\n",
    "from statsmodels.tools.tools import add_constant\n",
    "\n",
    "census_data_path = 'data/downloaded_census_data.geojson'\n",
    "craigslist_path = 'data/listings_joined_tracts.csv'\n",
    "cities_path = 'data/study_sites.csv'\n",
    "output_path = 'data/features.csv'"
   ]
  },
  {
   "cell_type": "markdown",
   "metadata": {},
   "source": [
    "## Load census tracts data\n",
    "\n",
    "These are all the tracts within our study sites (cities), and they have ACS variables loaded."
   ]
  },
  {
   "cell_type": "code",
   "execution_count": 2,
   "metadata": {},
   "outputs": [
    {
     "name": "stdout",
     "output_type": "stream",
     "text": [
      "12505\n"
     ]
    },
    {
     "data": {
      "text/html": [
       "<div>\n",
       "<style scoped>\n",
       "    .dataframe tbody tr th:only-of-type {\n",
       "        vertical-align: middle;\n",
       "    }\n",
       "\n",
       "    .dataframe tbody tr th {\n",
       "        vertical-align: top;\n",
       "    }\n",
       "\n",
       "    .dataframe thead th {\n",
       "        text-align: right;\n",
       "    }\n",
       "</style>\n",
       "<table border=\"1\" class=\"dataframe\">\n",
       "  <thead>\n",
       "    <tr style=\"text-align: right;\">\n",
       "      <th></th>\n",
       "      <th>ALAND</th>\n",
       "      <th>place_geoid</th>\n",
       "      <th>place_name</th>\n",
       "      <th>DP05_0001E</th>\n",
       "      <th>DP05_0017E</th>\n",
       "      <th>DP05_0008PE</th>\n",
       "      <th>DP05_0009PE</th>\n",
       "      <th>DP05_0021PE</th>\n",
       "      <th>DP05_0066PE</th>\n",
       "      <th>DP05_0072PE</th>\n",
       "      <th>...</th>\n",
       "      <th>DP02_0022PE</th>\n",
       "      <th>DP02_0079PE</th>\n",
       "      <th>DP02_0067PE</th>\n",
       "      <th>DP02_0111PE</th>\n",
       "      <th>DP02_0092PE</th>\n",
       "      <th>state</th>\n",
       "      <th>county</th>\n",
       "      <th>DP05_0072PE_2012</th>\n",
       "      <th>DP05_0072PE_2015</th>\n",
       "      <th>geometry</th>\n",
       "    </tr>\n",
       "    <tr>\n",
       "      <th>GEOID</th>\n",
       "      <th></th>\n",
       "      <th></th>\n",
       "      <th></th>\n",
       "      <th></th>\n",
       "      <th></th>\n",
       "      <th></th>\n",
       "      <th></th>\n",
       "      <th></th>\n",
       "      <th></th>\n",
       "      <th></th>\n",
       "      <th></th>\n",
       "      <th></th>\n",
       "      <th></th>\n",
       "      <th></th>\n",
       "      <th></th>\n",
       "      <th></th>\n",
       "      <th></th>\n",
       "      <th></th>\n",
       "      <th></th>\n",
       "      <th></th>\n",
       "      <th></th>\n",
       "    </tr>\n",
       "  </thead>\n",
       "  <tbody>\n",
       "    <tr>\n",
       "      <th>01073000100</th>\n",
       "      <td>7549578</td>\n",
       "      <td>0107000</td>\n",
       "      <td>Birmingham, AL</td>\n",
       "      <td>2970.0</td>\n",
       "      <td>32.2</td>\n",
       "      <td>4.3</td>\n",
       "      <td>16.5</td>\n",
       "      <td>11.6</td>\n",
       "      <td>4.6</td>\n",
       "      <td>17.1</td>\n",
       "      <td>...</td>\n",
       "      <td>3.8</td>\n",
       "      <td>84.7</td>\n",
       "      <td>9.0</td>\n",
       "      <td>94.2</td>\n",
       "      <td>3.1</td>\n",
       "      <td>01</td>\n",
       "      <td>073</td>\n",
       "      <td>15.5</td>\n",
       "      <td>16.9</td>\n",
       "      <td>POLYGON ((-86.74404800000001 33.573646, -86.74...</td>\n",
       "    </tr>\n",
       "    <tr>\n",
       "      <th>01073000300</th>\n",
       "      <td>2093104</td>\n",
       "      <td>0107000</td>\n",
       "      <td>Birmingham, AL</td>\n",
       "      <td>2494.0</td>\n",
       "      <td>36.5</td>\n",
       "      <td>7.9</td>\n",
       "      <td>17.2</td>\n",
       "      <td>7.4</td>\n",
       "      <td>18.0</td>\n",
       "      <td>4.6</td>\n",
       "      <td>...</td>\n",
       "      <td>3.6</td>\n",
       "      <td>85.9</td>\n",
       "      <td>14.3</td>\n",
       "      <td>77.7</td>\n",
       "      <td>16.5</td>\n",
       "      <td>01</td>\n",
       "      <td>073</td>\n",
       "      <td>7.6</td>\n",
       "      <td>5.4</td>\n",
       "      <td>POLYGON ((-86.76195 33.540608, -86.761394 33.5...</td>\n",
       "    </tr>\n",
       "    <tr>\n",
       "      <th>01073000400</th>\n",
       "      <td>8001582</td>\n",
       "      <td>0107000</td>\n",
       "      <td>Birmingham, AL</td>\n",
       "      <td>3437.0</td>\n",
       "      <td>30.6</td>\n",
       "      <td>7.0</td>\n",
       "      <td>18.1</td>\n",
       "      <td>9.3</td>\n",
       "      <td>0.7</td>\n",
       "      <td>7.9</td>\n",
       "      <td>...</td>\n",
       "      <td>7.3</td>\n",
       "      <td>78.4</td>\n",
       "      <td>3.3</td>\n",
       "      <td>98.2</td>\n",
       "      <td>0.5</td>\n",
       "      <td>01</td>\n",
       "      <td>073</td>\n",
       "      <td>6.9</td>\n",
       "      <td>9.4</td>\n",
       "      <td>POLYGON ((-86.78617300000001 33.5658, -86.7857...</td>\n",
       "    </tr>\n",
       "  </tbody>\n",
       "</table>\n",
       "<p>3 rows × 39 columns</p>\n",
       "</div>"
      ],
      "text/plain": [
       "               ALAND place_geoid      place_name  DP05_0001E  DP05_0017E  \\\n",
       "GEOID                                                                      \n",
       "01073000100  7549578     0107000  Birmingham, AL      2970.0        32.2   \n",
       "01073000300  2093104     0107000  Birmingham, AL      2494.0        36.5   \n",
       "01073000400  8001582     0107000  Birmingham, AL      3437.0        30.6   \n",
       "\n",
       "             DP05_0008PE  DP05_0009PE  DP05_0021PE  DP05_0066PE  DP05_0072PE  \\\n",
       "GEOID                                                                          \n",
       "01073000100          4.3         16.5         11.6          4.6         17.1   \n",
       "01073000300          7.9         17.2          7.4         18.0          4.6   \n",
       "01073000400          7.0         18.1          9.3          0.7          7.9   \n",
       "\n",
       "                                   ...                          DP02_0022PE  \\\n",
       "GEOID                              ...                                        \n",
       "01073000100                        ...                                  3.8   \n",
       "01073000300                        ...                                  3.6   \n",
       "01073000400                        ...                                  7.3   \n",
       "\n",
       "             DP02_0079PE  DP02_0067PE  DP02_0111PE  DP02_0092PE  state  \\\n",
       "GEOID                                                                    \n",
       "01073000100         84.7          9.0         94.2          3.1     01   \n",
       "01073000300         85.9         14.3         77.7         16.5     01   \n",
       "01073000400         78.4          3.3         98.2          0.5     01   \n",
       "\n",
       "             county  DP05_0072PE_2012  DP05_0072PE_2015  \\\n",
       "GEOID                                                     \n",
       "01073000100     073              15.5              16.9   \n",
       "01073000300     073               7.6               5.4   \n",
       "01073000400     073               6.9               9.4   \n",
       "\n",
       "                                                      geometry  \n",
       "GEOID                                                           \n",
       "01073000100  POLYGON ((-86.74404800000001 33.573646, -86.74...  \n",
       "01073000300  POLYGON ((-86.76195 33.540608, -86.761394 33.5...  \n",
       "01073000400  POLYGON ((-86.78617300000001 33.5658, -86.7857...  \n",
       "\n",
       "[3 rows x 39 columns]"
      ]
     },
     "execution_count": 2,
     "metadata": {},
     "output_type": "execute_result"
    }
   ],
   "source": [
    "tracts = gpd.read_file(census_data_path).rename(columns={'index':'GEOID'}).set_index('GEOID')\n",
    "assert tracts.index.is_unique\n",
    "print(len(tracts))\n",
    "tracts.head(3)"
   ]
  },
  {
   "cell_type": "markdown",
   "metadata": {},
   "source": [
    "## Load listings data\n",
    "\n",
    "These are cleaned rental listings and they have tracts fips code attached."
   ]
  },
  {
   "cell_type": "code",
   "execution_count": 3,
   "metadata": {},
   "outputs": [
    {
     "name": "stdout",
     "output_type": "stream",
     "text": [
      "1392866\n",
      "Wall time: 1.47 s\n"
     ]
    }
   ],
   "source": [
    "%%time\n",
    "dtypes = {'tract_geoid' : str}\n",
    "listings = pd.read_csv(craigslist_path, dtype=dtypes)\n",
    "print(len(listings))"
   ]
  },
  {
   "cell_type": "code",
   "execution_count": 4,
   "metadata": {},
   "outputs": [
    {
     "data": {
      "text/html": [
       "<div>\n",
       "<style scoped>\n",
       "    .dataframe tbody tr th:only-of-type {\n",
       "        vertical-align: middle;\n",
       "    }\n",
       "\n",
       "    .dataframe tbody tr th {\n",
       "        vertical-align: top;\n",
       "    }\n",
       "\n",
       "    .dataframe thead th {\n",
       "        text-align: right;\n",
       "    }\n",
       "</style>\n",
       "<table border=\"1\" class=\"dataframe\">\n",
       "  <thead>\n",
       "    <tr style=\"text-align: right;\">\n",
       "      <th></th>\n",
       "      <th>date</th>\n",
       "      <th>region</th>\n",
       "      <th>bedrooms</th>\n",
       "      <th>rent</th>\n",
       "      <th>sqft</th>\n",
       "      <th>tract_geoid</th>\n",
       "      <th>lat</th>\n",
       "      <th>lng</th>\n",
       "    </tr>\n",
       "  </thead>\n",
       "  <tbody>\n",
       "    <tr>\n",
       "      <th>0</th>\n",
       "      <td>2014-05-11</td>\n",
       "      <td>santabarbara</td>\n",
       "      <td>3.0</td>\n",
       "      <td>3500.0</td>\n",
       "      <td>1200.0</td>\n",
       "      <td>06083001304</td>\n",
       "      <td>34.399757</td>\n",
       "      <td>-119.726987</td>\n",
       "    </tr>\n",
       "    <tr>\n",
       "      <th>1</th>\n",
       "      <td>2014-05-11</td>\n",
       "      <td>santabarbara</td>\n",
       "      <td>2.0</td>\n",
       "      <td>850.0</td>\n",
       "      <td>882.0</td>\n",
       "      <td>06083002924</td>\n",
       "      <td>34.411019</td>\n",
       "      <td>-119.855845</td>\n",
       "    </tr>\n",
       "    <tr>\n",
       "      <th>2</th>\n",
       "      <td>2014-05-11</td>\n",
       "      <td>santabarbara</td>\n",
       "      <td>1.0</td>\n",
       "      <td>1290.0</td>\n",
       "      <td>NaN</td>\n",
       "      <td>06083002924</td>\n",
       "      <td>34.410415</td>\n",
       "      <td>-119.854330</td>\n",
       "    </tr>\n",
       "    <tr>\n",
       "      <th>3</th>\n",
       "      <td>2014-05-11</td>\n",
       "      <td>santabarbara</td>\n",
       "      <td>1.0</td>\n",
       "      <td>1660.0</td>\n",
       "      <td>NaN</td>\n",
       "      <td>06083000102</td>\n",
       "      <td>34.441460</td>\n",
       "      <td>-119.754324</td>\n",
       "    </tr>\n",
       "    <tr>\n",
       "      <th>4</th>\n",
       "      <td>2014-05-11</td>\n",
       "      <td>santabarbara</td>\n",
       "      <td>2.0</td>\n",
       "      <td>3200.0</td>\n",
       "      <td>NaN</td>\n",
       "      <td>06083002924</td>\n",
       "      <td>34.410416</td>\n",
       "      <td>-119.854530</td>\n",
       "    </tr>\n",
       "  </tbody>\n",
       "</table>\n",
       "</div>"
      ],
      "text/plain": [
       "         date        region  bedrooms    rent    sqft  tract_geoid        lat  \\\n",
       "0  2014-05-11  santabarbara       3.0  3500.0  1200.0  06083001304  34.399757   \n",
       "1  2014-05-11  santabarbara       2.0   850.0   882.0  06083002924  34.411019   \n",
       "2  2014-05-11  santabarbara       1.0  1290.0     NaN  06083002924  34.410415   \n",
       "3  2014-05-11  santabarbara       1.0  1660.0     NaN  06083000102  34.441460   \n",
       "4  2014-05-11  santabarbara       2.0  3200.0     NaN  06083002924  34.410416   \n",
       "\n",
       "          lng  \n",
       "0 -119.726987  \n",
       "1 -119.855845  \n",
       "2 -119.854330  \n",
       "3 -119.754324  \n",
       "4 -119.854530  "
      ]
     },
     "execution_count": 4,
     "metadata": {},
     "output_type": "execute_result"
    }
   ],
   "source": [
    "listings.head()"
   ]
  },
  {
   "cell_type": "code",
   "execution_count": 5,
   "metadata": {},
   "outputs": [
    {
     "data": {
      "text/plain": [
       "392179"
      ]
     },
     "execution_count": 5,
     "metadata": {},
     "output_type": "execute_result"
    }
   ],
   "source": [
    "# drop duplicates based on these attributes\n",
    "listings = listings.drop_duplicates(subset=['rent', 'sqft', 'bedrooms', 'neighborhood'])\n",
    "len(listings)"
   ]
  },
  {
   "cell_type": "code",
   "execution_count": 6,
   "metadata": {},
   "outputs": [
    {
     "data": {
      "text/plain": [
       "119005"
      ]
     },
     "execution_count": 6,
     "metadata": {},
     "output_type": "execute_result"
    }
   ],
   "source": [
    "# retain only those listings in the census tracts we're interested in, then convert to a geodataframe\n",
    "mask = listings['tract_geoid'].isin(tracts.index)\n",
    "listings_in_tracts = gpd.GeoDataFrame(listings[mask])\n",
    "listings_in_tracts['geometry'] = listings_in_tracts.apply(lambda row: Point((row['lng'], row['lat'])), axis=1)\n",
    "len(listings_in_tracts)"
   ]
  },
  {
   "cell_type": "code",
   "execution_count": 7,
   "metadata": {},
   "outputs": [],
   "source": [
    "# add city (place_geoid) to each listing\n",
    "listings_in_tracts = pd.merge(left=listings_in_tracts, right=tracts[['place_geoid']], \n",
    "                              how='inner', left_on='tract_geoid', right_index=True)"
   ]
  },
  {
   "cell_type": "code",
   "execution_count": 8,
   "metadata": {},
   "outputs": [
    {
     "data": {
      "text/plain": [
       "True     8537\n",
       "False    3968\n",
       "dtype: int64"
      ]
     },
     "execution_count": 8,
     "metadata": {},
     "output_type": "execute_result"
    }
   ],
   "source": [
    "# how many tracts are within our cities study areas but have no listings?\n",
    "tracts_with_listings = listings_in_tracts['tract_geoid'].unique()\n",
    "pd.Series(tracts.index.isin(tracts_with_listings)).value_counts()"
   ]
  },
  {
   "cell_type": "markdown",
   "metadata": {},
   "source": [
    "The listings are clustered into few tracts. Almost 1/3 of tracts have no listings at all."
   ]
  },
  {
   "cell_type": "code",
   "execution_count": 9,
   "metadata": {},
   "outputs": [
    {
     "data": {
      "text/plain": [
       "place_name\n",
       "New York, NY       1316\n",
       "Chicago, IL         406\n",
       "Houston, TX         267\n",
       "Los Angeles, CA     253\n",
       "Detroit, MI         188\n",
       "Name: ALAND, dtype: int64"
      ]
     },
     "execution_count": 9,
     "metadata": {},
     "output_type": "execute_result"
    }
   ],
   "source": [
    "# which cities have the most tracts without any craigslist listings?\n",
    "tracts[~(tracts.index.isin(tracts_with_listings))].groupby(['place_name']).count().iloc[:,0].sort_values(ascending=False).head()"
   ]
  },
  {
   "cell_type": "code",
   "execution_count": 10,
   "metadata": {},
   "outputs": [
    {
     "data": {
      "text/plain": [
       "12505"
      ]
     },
     "execution_count": 10,
     "metadata": {},
     "output_type": "execute_result"
    }
   ],
   "source": [
    "len(tracts)"
   ]
  },
  {
   "cell_type": "code",
   "execution_count": 11,
   "metadata": {},
   "outputs": [
    {
     "data": {
      "text/plain": [
       "Index(['ALAND', 'place_geoid', 'place_name', 'DP05_0001E', 'DP05_0017E',\n",
       "       'DP05_0008PE', 'DP05_0009PE', 'DP05_0021PE', 'DP05_0066PE',\n",
       "       'DP05_0072PE', 'DP05_0033PE', 'DP05_0039PE', 'DP05_0002PE',\n",
       "       'DP04_0007PE', 'DP04_0088E', 'DP04_0036E', 'DP04_0025PE', 'DP04_0046PE',\n",
       "       'DP04_0046E', 'DP04_0005E', 'DP04_0048E', 'DP04_0132E', 'DP04_0139PE',\n",
       "       'DP04_0140PE', 'DP03_0062E', 'DP03_0025E', 'DP03_0019PE', 'DP03_0128PE',\n",
       "       'DP02_0057PE', 'DP02_0022PE', 'DP02_0079PE', 'DP02_0067PE',\n",
       "       'DP02_0111PE', 'DP02_0092PE', 'state', 'county', 'DP05_0072PE_2012',\n",
       "       'DP05_0072PE_2015', 'geometry'],\n",
       "      dtype='object')"
      ]
     },
     "execution_count": 11,
     "metadata": {},
     "output_type": "execute_result"
    }
   ],
   "source": [
    "tracts.columns"
   ]
  },
  {
   "cell_type": "markdown",
   "metadata": {},
   "source": [
    "## Calculate distance from each tract's centroid to its city's center."
   ]
  },
  {
   "cell_type": "code",
   "execution_count": 12,
   "metadata": {},
   "outputs": [],
   "source": [
    "# load the city names that make up our study sites to get center lat/lng for each\n",
    "study_sites = pd.read_csv(cities_path, encoding='utf-8')\n",
    "study_sites['place_name'] = study_sites.apply(lambda row: '{}, {}'.format(row['city'], row['state']), axis=1)\n",
    "study_sites = study_sites.rename(columns={'lat':'lat_city_center', 'lng':'lng_city_center'}).drop(columns=['city', 'state'])"
   ]
  },
  {
   "cell_type": "code",
   "execution_count": 13,
   "metadata": {},
   "outputs": [],
   "source": [
    "# merge tracts with cities and calculate each tract's centroid\n",
    "tracts['centroid'] = tracts.centroid\n",
    "tracts = pd.merge(tracts.reset_index(), study_sites, how='left', on='place_name')\n",
    "tracts = tracts.set_index('GEOID')"
   ]
  },
  {
   "cell_type": "code",
   "execution_count": 14,
   "metadata": {},
   "outputs": [],
   "source": [
    "# calculate distance (km) from each tract's centroid to its city's center\n",
    "lat1 = tracts['centroid'].map(lambda pt: pt.y)\n",
    "lng1 = tracts['centroid'].map(lambda pt: pt.x)\n",
    "lat2 = tracts['lat_city_center']\n",
    "lng2 = tracts['lng_city_center']\n",
    "distances_m = ox.great_circle_vec(lat1, lng1, lat2, lng2)\n",
    "tracts['distance_to_center_km'] = distances_m / 1000."
   ]
  },
  {
   "cell_type": "markdown",
   "metadata": {},
   "source": [
    "## Now calculate other features."
   ]
  },
  {
   "cell_type": "code",
   "execution_count": 15,
   "metadata": {},
   "outputs": [],
   "source": [
    "# population density (in thousands of persons per km2) and rental unit density (per km2)\n",
    "tracts['pop_density_k_km'] = (tracts['DP05_0001E'] / 1000.) / (tracts['ALAND'] / 1000000.)\n",
    "tracts['renter_occupied_units_km'] = tracts['DP04_0046E'] / (tracts['ALAND'] / 1000000.)"
   ]
  },
  {
   "cell_type": "code",
   "execution_count": 16,
   "metadata": {},
   "outputs": [],
   "source": [
    "# calculate median age and the pct aged 20-34\n",
    "tracts['pct_20_34'] = tracts['DP05_0008PE'] + tracts['DP05_0009PE']\n",
    "tracts = tracts.drop(columns=['DP05_0008PE', 'DP05_0009PE'])"
   ]
  },
  {
   "cell_type": "code",
   "execution_count": 17,
   "metadata": {},
   "outputs": [],
   "source": [
    "# calculate pct of tracts paying more than 30% of income in gross rent\n",
    "tracts['pct_burden'] = tracts['DP04_0139PE'] + tracts['DP04_0140PE']\n",
    "tracts = tracts.drop(columns=['DP04_0139PE', 'DP04_0140PE'])"
   ]
  },
  {
   "cell_type": "code",
   "execution_count": 18,
   "metadata": {},
   "outputs": [],
   "source": [
    "# calculate gross rent, income, and home value in thousands of dollars\n",
    "tracts['median_gross_rent_k'] = tracts['DP04_0132E'] / 1000.\n",
    "tracts['med_income_k'] = tracts['DP03_0062E'] / 1000.\n",
    "tracts['med_home_value_k'] = tracts['DP04_0088E'] / 1000.\n",
    "tracts = tracts.drop(columns=['DP03_0062E', 'DP04_0088E', 'DP04_0132E'])"
   ]
  },
  {
   "cell_type": "code",
   "execution_count": 19,
   "metadata": {},
   "outputs": [],
   "source": [
    "# calculate change in pct white over time\n",
    "tracts['pct_white_change_2012_2015'] = tracts['DP05_0072PE_2015'] - tracts['DP05_0072PE_2012']\n",
    "tracts = tracts.drop(columns=['DP05_0072PE_2015', 'DP05_0072PE_2012'])"
   ]
  },
  {
   "cell_type": "code",
   "execution_count": 20,
   "metadata": {},
   "outputs": [
    {
     "data": {
      "text/plain": [
       "Index(['land_area', 'place_geoid', 'place_name', 'total_pop', 'median_age',\n",
       "       'pct_65_older', 'pct_hispanic', 'pct_white', 'pct_black', 'pct_asian',\n",
       "       'pct_male', 'pct_single_fam_detached', 'med_rooms_in_house',\n",
       "       'pct_built_before_1940', 'pct_renting', 'count_renter_occupied_units',\n",
       "       'rental_vacancy_rate', 'renter_household_size', 'mean_travel_time_work',\n",
       "       'pct_commute_drive_alone', 'pct_below_poverty',\n",
       "       'pct_college_grad_student', 'pct_nonrelatives_household',\n",
       "       'pct_same_residence_year_ago', 'pct_bachelors_or_higher',\n",
       "       'pct_english_only', 'pct_foreign_born', 'state', 'county', 'geometry',\n",
       "       'centroid', 'lat_city_center', 'lng_city_center',\n",
       "       'distance_to_center_km', 'pop_density_k_km', 'renter_occupied_units_km',\n",
       "       'pct_20_34', 'pct_burden', 'median_gross_rent_k', 'med_income_k',\n",
       "       'med_home_value_k', 'pct_white_change_2012_2015'],\n",
       "      dtype='object')"
      ]
     },
     "execution_count": 20,
     "metadata": {},
     "output_type": "execute_result"
    }
   ],
   "source": [
    "# give every other variable a friendly name\n",
    "tracts = tracts.rename(columns={'ALAND'      :'land_area',\n",
    "                                'DP05_0001E' :'total_pop',\n",
    "                                'DP05_0021PE':'pct_65_older',\n",
    "                                'DP05_0017E' :'median_age',\n",
    "                                'DP05_0072PE':'pct_white',\n",
    "                                'DP05_0066PE':'pct_hispanic',\n",
    "                                'DP05_0033PE':'pct_black',\n",
    "                                'DP05_0039PE':'pct_asian',\n",
    "                                'DP05_0002PE':'pct_male',\n",
    "                                'DP02_0067PE':'pct_bachelors_or_higher',\n",
    "                                'DP04_0048E' :'renter_household_size',\n",
    "                                'DP04_0007PE':'pct_single_fam_detached',\n",
    "                                'DP04_0036E' :'med_rooms_in_house',\n",
    "                                'DP04_0025PE':'pct_built_before_1940',\n",
    "                                'DP04_0046PE':'pct_renting',\n",
    "                                'DP04_0046E' :'count_renter_occupied_units',\n",
    "                                'DP04_0005E' :'rental_vacancy_rate',\n",
    "                                'DP03_0025E' :'mean_travel_time_work',\n",
    "                                'DP03_0019PE':'pct_commute_drive_alone',\n",
    "                                'DP03_0128PE':'pct_below_poverty',\n",
    "                                'DP02_0057PE':'pct_college_grad_student',\n",
    "                                'DP02_0022PE':'pct_nonrelatives_household',\n",
    "                                'DP02_0079PE':'pct_same_residence_year_ago',\n",
    "                                'DP02_0111PE':'pct_english_only',\n",
    "                                'DP02_0092PE':'pct_foreign_born'})\n",
    "tracts.columns"
   ]
  },
  {
   "cell_type": "code",
   "execution_count": 21,
   "metadata": {},
   "outputs": [],
   "source": [
    "# turn pcts into proportions\n",
    "for col in tracts.columns:\n",
    "    if col.startswith('pct_'):\n",
    "        tracts[col] = tracts[col] / 100\n",
    "        tracts = tracts.rename(columns={col:col.replace('pct_', 'prop_')})"
   ]
  },
  {
   "cell_type": "code",
   "execution_count": 22,
   "metadata": {},
   "outputs": [],
   "source": [
    "# turn pct vacancy rate into a proportion\n",
    "tracts['rental_vacancy_rate'] = tracts['rental_vacancy_rate'] / 100"
   ]
  },
  {
   "cell_type": "code",
   "execution_count": 23,
   "metadata": {},
   "outputs": [],
   "source": [
    "# calculate total rental units (occupied and unoccupied) in each tract\n",
    "tracts['count_rental_units'] = tracts['count_renter_occupied_units'] / (1 - tracts['rental_vacancy_rate'])"
   ]
  },
  {
   "cell_type": "code",
   "execution_count": 24,
   "metadata": {},
   "outputs": [
    {
     "data": {
      "text/plain": [
       "dummy_white_major       4895\n",
       "dummy_black_major       2781\n",
       "dummy_hispanic_major    2273\n",
       "dummy_asian_major        233\n",
       "dtype: int64"
      ]
     },
     "execution_count": 24,
     "metadata": {},
     "output_type": "execute_result"
    }
   ],
   "source": [
    "# dummies representing if each race is majority in tract\n",
    "tracts['dummy_white_major'] = tracts['prop_white'] >= 0.5\n",
    "tracts['dummy_black_major'] = tracts['prop_black'] >= 0.5\n",
    "tracts['dummy_hispanic_major'] = tracts['prop_hispanic'] >= 0.5\n",
    "tracts['dummy_asian_major'] = tracts['prop_asian'] >= 0.5\n",
    "\n",
    "cols = ['dummy_white_major', 'dummy_black_major', 'dummy_hispanic_major', 'dummy_asian_major']\n",
    "tracts[cols] = tracts[cols].astype(int)\n",
    "tracts[cols].sum()"
   ]
  },
  {
   "cell_type": "code",
   "execution_count": 25,
   "metadata": {},
   "outputs": [
    {
     "data": {
      "text/plain": [
       "dummy_white_plural       5853\n",
       "dummy_black_plural       3157\n",
       "dummy_hispanic_plural    2907\n",
       "dummy_asian_plural        468\n",
       "dtype: int64"
      ]
     },
     "execution_count": 25,
     "metadata": {},
     "output_type": "execute_result"
    }
   ],
   "source": [
    "# dummies representing if each race is plurality in tract\n",
    "tracts['dummy_white_plural'] = (tracts['prop_white'] > tracts['prop_black']) & \\\n",
    "                               (tracts['prop_white'] > tracts['prop_hispanic']) & \\\n",
    "                               (tracts['prop_white'] > tracts['prop_asian'])\n",
    "tracts['dummy_black_plural'] = (tracts['prop_black'] > tracts['prop_white']) & \\\n",
    "                               (tracts['prop_black'] > tracts['prop_hispanic']) & \\\n",
    "                               (tracts['prop_black'] > tracts['prop_asian'])\n",
    "tracts['dummy_hispanic_plural'] = (tracts['prop_hispanic'] > tracts['prop_white']) & \\\n",
    "                                  (tracts['prop_hispanic'] > tracts['prop_black']) & \\\n",
    "                                  (tracts['prop_hispanic'] > tracts['prop_asian'])\n",
    "tracts['dummy_asian_plural'] = (tracts['prop_asian'] > tracts['prop_black']) & \\\n",
    "                               (tracts['prop_asian'] > tracts['prop_hispanic']) & \\\n",
    "                               (tracts['prop_asian'] > tracts['prop_white'])\n",
    "\n",
    "cols = ['dummy_white_plural', 'dummy_black_plural', 'dummy_hispanic_plural', 'dummy_asian_plural']\n",
    "tracts[cols] = tracts[cols].astype(int)\n",
    "tracts[cols].sum()"
   ]
  },
  {
   "cell_type": "markdown",
   "metadata": {},
   "source": [
    "## Allocation of rental units/listings\n",
    "\n",
    "In each city, allocate all listings proportionately to each tract and count how many craigslist listings actually appear in each tract"
   ]
  },
  {
   "cell_type": "code",
   "execution_count": 26,
   "metadata": {},
   "outputs": [],
   "source": [
    "# how many vacant rental units are in each tract?\n",
    "tracts['vacant_rental_units'] = tracts['count_rental_units'] * tracts['rental_vacancy_rate']"
   ]
  },
  {
   "cell_type": "code",
   "execution_count": 27,
   "metadata": {},
   "outputs": [],
   "source": [
    "# group tracts by cities, so we can loop through one city at a time\n",
    "# to allocate city's rental listings proportionally among all its tracts\n",
    "cities_to_tracts = tracts.reset_index().groupby('place_geoid')"
   ]
  },
  {
   "cell_type": "markdown",
   "metadata": {},
   "source": [
    "#### 1. do a proportional reallocation according to each tract's share of city's total number of rental units"
   ]
  },
  {
   "cell_type": "code",
   "execution_count": 28,
   "metadata": {},
   "outputs": [
    {
     "name": "stdout",
     "output_type": "stream",
     "text": [
      "12505\n",
      "12505\n",
      "12505\n",
      "119005\n",
      "119005\n",
      "119005\n"
     ]
    }
   ],
   "source": [
    "proportionate_allocation_total = pd.Series()\n",
    "clist_allocation_total = pd.Series()\n",
    "\n",
    "# for each city's group of tracts\n",
    "for city_geoid, group_tracts in cities_to_tracts:\n",
    "    \n",
    "    # what share of the city's renter-occupied housing units does each tract have in reality?\n",
    "    group_tracts = group_tracts.set_index('GEOID')\n",
    "    tracts_shares = group_tracts['count_rental_units'] / group_tracts['count_rental_units'].sum()\n",
    "    city_listings = listings_in_tracts[listings_in_tracts['place_geoid']==city_geoid]\n",
    "    \n",
    "    # allocate rental listings to tracts according to their share of city's renter-occupied units\n",
    "    prop_allocation_city = tracts_shares * len(city_listings)\n",
    "    proportionate_allocation_total = proportionate_allocation_total.append(prop_allocation_city)\n",
    "    \n",
    "    # count how many craigslist listings appear in each tract in this city\n",
    "    clist_allocation_city_total = city_listings.groupby('tract_geoid')['place_geoid'].count()\n",
    "    clist_allocation_total = clist_allocation_total.append(clist_allocation_city_total)\n",
    "    \n",
    "# make sure to include any tracts that lack craigslist listings, and give them a zero count\n",
    "clist_allocation_total = clist_allocation_total.reindex(tracts.index, fill_value=0)\n",
    "\n",
    "# make sure all our counts match up\n",
    "print(len(tracts))\n",
    "print(len(clist_allocation_total))\n",
    "print(len(proportionate_allocation_total))\n",
    "print(len(listings_in_tracts))\n",
    "print(clist_allocation_total.sum())\n",
    "print(int(round(proportionate_allocation_total.sum())))\n",
    "assert len(tracts) == len(clist_allocation_total) == len(proportionate_allocation_total)\n",
    "assert len(listings_in_tracts) == clist_allocation_total.sum() == int(round(proportionate_allocation_total.sum()))"
   ]
  },
  {
   "cell_type": "markdown",
   "metadata": {},
   "source": [
    "#### 2. do a proportional reallocation according to each tract's share of city's total number of vacant rental units"
   ]
  },
  {
   "cell_type": "code",
   "execution_count": 29,
   "metadata": {},
   "outputs": [
    {
     "name": "stdout",
     "output_type": "stream",
     "text": [
      "12505\n",
      "12505\n",
      "12505\n",
      "119005\n",
      "119005\n",
      "119005\n"
     ]
    }
   ],
   "source": [
    "proportionate_allocation_vacant = pd.Series()\n",
    "clist_allocation_vacant = pd.Series()\n",
    "\n",
    "# for each city's group of tracts\n",
    "for city_geoid, group_tracts in cities_to_tracts:\n",
    "    \n",
    "    # what share of the city's renter-occupied housing units does each tract have in reality?\n",
    "    group_tracts = group_tracts.set_index('GEOID')\n",
    "    tracts_shares = group_tracts['vacant_rental_units'] / group_tracts['vacant_rental_units'].sum()\n",
    "    city_listings = listings_in_tracts[listings_in_tracts['place_geoid']==city_geoid]\n",
    "    \n",
    "    # allocate rental listings to tracts according to their share of city's renter-occupied units\n",
    "    prop_allocation_city = tracts_shares * len(city_listings)\n",
    "    proportionate_allocation_vacant = proportionate_allocation_vacant.append(prop_allocation_city)\n",
    "    \n",
    "    # count how many craigslist listings appear in each tract in this city\n",
    "    clist_allocation_city_vacant = city_listings.groupby('tract_geoid')['place_geoid'].count()\n",
    "    clist_allocation_vacant = clist_allocation_vacant.append(clist_allocation_city_vacant)\n",
    "    \n",
    "# make sure to include any tracts that lack craigslist listings, and give them a zero count\n",
    "clist_allocation_vacant = clist_allocation_vacant.reindex(tracts.index, fill_value=0)\n",
    "\n",
    "# make sure all our counts match up\n",
    "print(len(tracts))\n",
    "print(len(clist_allocation_vacant))\n",
    "print(len(proportionate_allocation_vacant))\n",
    "print(len(listings_in_tracts))\n",
    "print(clist_allocation_vacant.sum())\n",
    "print(int(round(proportionate_allocation_vacant.sum())))\n",
    "assert len(tracts) == len(clist_allocation_vacant) == len(proportionate_allocation_vacant)\n",
    "assert len(listings_in_tracts) == clist_allocation_vacant.sum() == int(round(proportionate_allocation_vacant.sum()))"
   ]
  },
  {
   "cell_type": "markdown",
   "metadata": {},
   "source": [
    "#### Assemble our dataframe for statistical analysis: first, independent variables from census data"
   ]
  },
  {
   "cell_type": "code",
   "execution_count": 30,
   "metadata": {},
   "outputs": [],
   "source": [
    "tracts['clist_count'] = clist_allocation_total\n",
    "tracts['proportionate_count'] = proportionate_allocation_total\n",
    "tracts['clist_count_vacant'] = clist_allocation_vacant\n",
    "tracts['proportionate_count_vacant'] = proportionate_allocation_vacant"
   ]
  },
  {
   "cell_type": "markdown",
   "metadata": {},
   "source": [
    "#### Now calculate and transform dependent variable: how much craigslist is biased, per tract\n",
    "\n",
    "There are different ways to consider this."
   ]
  },
  {
   "cell_type": "code",
   "execution_count": 31,
   "metadata": {},
   "outputs": [
    {
     "data": {
      "text/plain": [
       "12505"
      ]
     },
     "execution_count": 31,
     "metadata": {},
     "output_type": "execute_result"
    }
   ],
   "source": [
    "len(tracts)"
   ]
  },
  {
   "cell_type": "code",
   "execution_count": 32,
   "metadata": {},
   "outputs": [
    {
     "data": {
      "text/plain": [
       "12328"
      ]
     },
     "execution_count": 32,
     "metadata": {},
     "output_type": "execute_result"
    }
   ],
   "source": [
    "# clean up the dataframe -- remove inf values\n",
    "to_replace = [np.inf, -np.inf]\n",
    "tracts = tracts.replace(to_replace, value=np.nan)\n",
    "\n",
    "# discard any tracts with zero rental units in them\n",
    "tracts = tracts[tracts['count_rental_units'] > 0]\n",
    "len(tracts)"
   ]
  },
  {
   "cell_type": "code",
   "execution_count": 33,
   "metadata": {},
   "outputs": [],
   "source": [
    "# bias_diff shows how many more listings we have than we would proportionally\n",
    "tracts['bias_diff'] = tracts['clist_count'] - tracts['proportionate_count']"
   ]
  },
  {
   "cell_type": "code",
   "execution_count": 34,
   "metadata": {},
   "outputs": [
    {
     "data": {
      "image/png": "[encoded data removed]",
      "text/plain": [
       "<Figure size 432x288 with 1 Axes>"
      ]
     },
     "metadata": {},
     "output_type": "display_data"
    }
   ],
   "source": [
    "# bias_ratio shows how overrepresented this tract is on craigslist\n",
    "lmbda = 1\n",
    "tracts['bias_ratio'] = (tracts['clist_count'] + lmbda) / (tracts['proportionate_count'] + lmbda)\n",
    "tracts['bias_ratio'] = (tracts['clist_count'] + lmbda) / (tracts['proportionate_count'] + lmbda)\n",
    "\n",
    "# take log(bias_ratio)\n",
    "tracts['bias_log'] = np.log(tracts['bias_ratio'])\n",
    "ax = tracts['bias_log'].plot.kde(c='#777777', lw=2, bw_method=0.2)\n",
    "ax.set_ylim(bottom=0)\n",
    "ax.set_xlim((-4, 4))\n",
    "plt.show()"
   ]
  },
  {
   "cell_type": "code",
   "execution_count": 35,
   "metadata": {},
   "outputs": [
    {
     "data": {
      "image/png": "[encoded data removed]",
      "text/plain": [
       "<Figure size 432x288 with 1 Axes>"
      ]
     },
     "metadata": {},
     "output_type": "display_data"
    }
   ],
   "source": [
    "# bias_ratio shows how overrepresented this tract is on craigslist\n",
    "lmbda = 1\n",
    "tracts['bias_ratio_vacant'] = (tracts['clist_count_vacant'] + lmbda) / (tracts['proportionate_count_vacant'] + lmbda)\n",
    "tracts['bias_ratio_vacant'] = (tracts['clist_count_vacant'] + lmbda) / (tracts['proportionate_count_vacant'] + lmbda)\n",
    "\n",
    "# take log(bias_ratio_vacant)\n",
    "tracts['bias_log_vacant'] = np.log(tracts['bias_ratio_vacant'])\n",
    "ax = tracts['bias_log_vacant'].plot.kde(c='#777777', lw=2, bw_method=0.2)\n",
    "ax.set_ylim(bottom=0)\n",
    "ax.set_xlim((-6, 6))\n",
    "plt.show()"
   ]
  },
  {
   "cell_type": "markdown",
   "metadata": {},
   "source": [
    "Ratios lack symmetry. When a < b, a/b ranges from 0 to 1. When a > b, a/b ranges from 1 to infinity. Log fixes this. When a = b, a/b = 1 and log(a/b) = 0. Because log(a/b) = -log(b/a), it produces symmetry. This is because log(a/b) = log(a)-log(b), so we are evaluating the algebraic different between (log) values, somewhat similar to bias_diff, but sensibly distributed. \n",
    "\n",
    "Add lmbda to numerator and denominator to avoid divide by zero and log(0). Without this, the ratios 0/3 and 0/50 would be the same value: 0. In reality, 0/3 suggests that only 3 listings are \"missing\" whereas 0/50 suggests that 50 are \"missing\". The latter is much \"farther off\" the expected value. With lmbda, the ratios instead are 1/4=0.25 and 1/51=0.02. These ratios more accurately reflect how \"far off\" the craigslist count is from the proportional count. For more info on adding 1 see https://robjhyndman.com/hyndsight/transformations/ or https://discuss.analyticsvidhya.com/t/methods-to-deal-with-zero-values-while-performing-log-transformation-of-variable/2431/4"
   ]
  },
  {
   "cell_type": "code",
   "execution_count": 36,
   "metadata": {},
   "outputs": [],
   "source": [
    "# or do a box-cox transformation (similar to taking log)\n",
    "tracts['bias_bc'], lambda_fitted, conf = stats.boxcox(tracts['bias_ratio'], alpha=0.95)"
   ]
  },
  {
   "cell_type": "markdown",
   "metadata": {},
   "source": [
    "#### Calculate rental listings per rental unit in the tract"
   ]
  },
  {
   "cell_type": "code",
   "execution_count": 37,
   "metadata": {},
   "outputs": [],
   "source": [
    "tracts['listings_per_unit'] = (tracts['clist_count'] + lmbda) / (tracts['count_rental_units'] + lmbda)\n",
    "tracts['listings_per_vacant_unit'] = (tracts['clist_count_vacant'] + lmbda) / (tracts['vacant_rental_units'] + lmbda)"
   ]
  },
  {
   "cell_type": "markdown",
   "metadata": {},
   "source": [
    "## Determine if tracts are over or under represented"
   ]
  },
  {
   "cell_type": "code",
   "execution_count": 38,
   "metadata": {},
   "outputs": [],
   "source": [
    "overrepresent_var = 'bias_ratio_vacant'\n",
    "overrepresent_value = 1"
   ]
  },
  {
   "cell_type": "code",
   "execution_count": 39,
   "metadata": {},
   "outputs": [
    {
     "name": "stdout",
     "output_type": "stream",
     "text": [
      "4401 7927\n"
     ]
    }
   ],
   "source": [
    "# divide data into two subsets: overrepresented vs proportionately/under-represented\n",
    "mask = tracts[overrepresent_var] > overrepresent_value\n",
    "over = tracts[mask]\n",
    "under = tracts[~mask]\n",
    "print(len(over), len(under))"
   ]
  },
  {
   "cell_type": "code",
   "execution_count": 40,
   "metadata": {},
   "outputs": [
    {
     "data": {
      "text/plain": [
       "0    7927\n",
       "1    4401\n",
       "Name: is_over, dtype: int64"
      ]
     },
     "execution_count": 40,
     "metadata": {},
     "output_type": "execute_result"
    }
   ],
   "source": [
    "# make a dummy to indicate if tract is overrepresented\n",
    "tracts['is_over'] = (tracts[overrepresent_var] > overrepresent_value).astype(int)\n",
    "tracts['is_over'].value_counts()"
   ]
  },
  {
   "cell_type": "markdown",
   "metadata": {},
   "source": [
    "## Organize our variables"
   ]
  },
  {
   "cell_type": "code",
   "execution_count": 41,
   "metadata": {},
   "outputs": [],
   "source": [
    "# get a set of all predictor variables\n",
    "not_predictors = ['bias_diff', 'bias_ratio', 'bias_log', 'bias_bc', 'centroid', \n",
    "                  'bias_log_vacant', 'bias_ratio_vacant',\n",
    "                  'clist_count', 'county', 'geometry', 'is_over', 'land_area',\n",
    "                  'lat_city_center', 'lng_city_center', 'place_geoid', 'place_name', \n",
    "                  'proportionate_count', 'state', 'prop_white_change_2012_2015']\n",
    "\n",
    "predictors_all = tracts.drop(columns=not_predictors).columns"
   ]
  },
  {
   "cell_type": "code",
   "execution_count": 42,
   "metadata": {},
   "outputs": [],
   "source": [
    "# get all the predictors that are not dummy variables\n",
    "predictors_no_dummies = [p for p in predictors_all if 'dummy' not in p]"
   ]
  },
  {
   "cell_type": "code",
   "execution_count": 43,
   "metadata": {},
   "outputs": [],
   "source": [
    "# get a small subset of key variables of interest\n",
    "predictors_key = ['prop_white', 'renter_household_size', 'prop_below_poverty', 'prop_20_34',\n",
    "                  'prop_bachelors_or_higher', 'med_income_k', 'median_gross_rent_k']"
   ]
  },
  {
   "cell_type": "markdown",
   "metadata": {},
   "source": [
    "## Inspect the predictors' relationships with each other\n",
    "\n",
    "#### and reduce multicollinearity among the predictors"
   ]
  },
  {
   "cell_type": "code",
   "execution_count": 44,
   "metadata": {},
   "outputs": [
    {
     "data": {
      "text/plain": [
       "count_renter_occupied_units  count_rental_units          0.995359\n",
       "renter_occupied_units_km     pop_density_k_km            0.935369\n",
       "prop_foreign_born            prop_english_only           0.868093\n",
       "med_rooms_in_house           prop_renting                0.816963\n",
       "prop_hispanic                prop_english_only           0.811745\n",
       "median_age                   prop_65_older               0.791376\n",
       "prop_renting                 prop_single_fam_detached    0.753678\n",
       "med_income_k                 prop_below_poverty          0.745893\n",
       "median_gross_rent_k          med_income_k                0.737837\n",
       "med_income_k                 prop_bachelors_or_higher    0.734205\n",
       "dtype: float64"
      ]
     },
     "execution_count": 44,
     "metadata": {},
     "output_type": "execute_result"
    }
   ],
   "source": [
    "# these predictor vars have the highest pairwise correlations\n",
    "correlations = tracts[sorted(predictors_no_dummies)].corr()\n",
    "correlations.stack().abs().sort_values(ascending=False)[len(predictors_no_dummies):].drop_duplicates().head(10)"
   ]
  },
  {
   "cell_type": "code",
   "execution_count": 45,
   "metadata": {},
   "outputs": [],
   "source": [
    "fig, ax = plt.subplots(figsize=(10, 10))\n",
    "cax = ax.matshow(correlations, cmap=plt.cm.PiYG_r)\n",
    "fig.colorbar(cax, fraction=0.045, pad=0.02)\n",
    "plt.xticks(range(len(correlations.columns)), correlations.columns, rotation=90)\n",
    "plt.yticks(range(len(correlations.columns)), correlations.columns)\n",
    "plt.savefig('images/correlation_matrix.jpg', bbox_inches='tight', dpi=300)\n",
    "plt.close()"
   ]
  },
  {
   "cell_type": "code",
   "execution_count": 46,
   "metadata": {},
   "outputs": [],
   "source": [
    "# matrix of scatter plots for a subset of explanatory variables\n",
    "X = tracts[predictors_key]\n",
    "plots_array = scatter_matrix(X, figsize=(35, 35), alpha=0.2, s=2, diagonal='kde')\n",
    "plt.savefig('images/scatter_matrix.jpg', bbox_inches='tight', dpi=90)\n",
    "plt.close()"
   ]
  },
  {
   "cell_type": "markdown",
   "metadata": {},
   "source": [
    "#### Reduce multicollinearity using predictors' variance inflation factors and design matrix's condition number\n",
    "\n",
    "A high condition number indicates multicollinearity. Rule of thumb, you want this to be below ~20 (in real-world applied analyses it will often be a bit higher though). Condition number is the ratio of the largest eigenvalue in the design matrix to the smallest. In other words, the large condition number in this case results from scaling rather than from multicollinearity. If we have just one variable with units in the thousands (ie, a large eigenvalue) and add a constant with units of 1 (ie, a small eigenvalue), we'll get a large condition number as the ratio, and statsmodels warns of multicollinearity. If you standardize the design matrix, you'll see condition number without the scaling effects.\n",
    "\n",
    "VIF is a measure for the collinearity of one variable with all the others. As a rule of thumb, a VIF > 10 indicates strong multicollinearity. If multicollinearity is present in our regression model, the correlated predictors can have large standard errors and thus become insignificant, even though they are theoretically important. By removing redundant predictors, we'll have more sensible regression results for the ones we left in. In statsmodels, the function expects the presence of a constant in the matrix of explanatory variables."
   ]
  },
  {
   "cell_type": "code",
   "execution_count": 47,
   "metadata": {},
   "outputs": [],
   "source": [
    "# create design matrix 'X' with no null values, and add constant\n",
    "X = tracts.dropna()[predictors_all]\n",
    "Xc = add_constant(X)"
   ]
  },
  {
   "cell_type": "code",
   "execution_count": 48,
   "metadata": {},
   "outputs": [
    {
     "name": "stdout",
     "output_type": "stream",
     "text": [
      "3.918004778243058e+16\n",
      "2.5134561272689284e+16\n",
      "6476509829598857.0\n"
     ]
    }
   ],
   "source": [
    "# calculate condition number with all predictors and constant (really high)\n",
    "print(np.linalg.cond(Xc))\n",
    "print(np.linalg.cond(X))\n",
    "print(np.linalg.cond(zscore(X)))"
   ]
  },
  {
   "cell_type": "code",
   "execution_count": 49,
   "metadata": {},
   "outputs": [
    {
     "name": "stderr",
     "output_type": "stream",
     "text": [
      "C:\\Anaconda\\lib\\site-packages\\statsmodels\\stats\\outliers_influence.py:167: RuntimeWarning: divide by zero encountered in double_scalars\n",
      "  vif = 1. / (1. - r_squared_i)\n"
     ]
    },
    {
     "data": {
      "text/plain": [
       "count_rental_units                     inf\n",
       "vacant_rental_units                    inf\n",
       "count_renter_occupied_units            inf\n",
       "const                          4385.176082\n",
       "dummy_white_plural              500.870369\n",
       "dummy_black_plural              386.592815\n",
       "dummy_hispanic_plural           357.897921\n",
       "prop_black                      117.153553\n",
       "prop_white                      110.871752\n",
       "prop_hispanic                    83.688216\n",
       "dtype: float64"
      ]
     },
     "execution_count": 49,
     "metadata": {},
     "output_type": "execute_result"
    }
   ],
   "source": [
    "# calculate VIF for all predictors and constant (really high) then view top 10\n",
    "vifs = [vif(Xc.values, i) for i in range(len(Xc.columns))]\n",
    "pd.Series(data=vifs, index=Xc.columns).sort_values(ascending=False).head(10)"
   ]
  },
  {
   "cell_type": "markdown",
   "metadata": {},
   "source": [
    "We have a high condition number and high VIFs, so we should remove redundant or unimportant predictors from model to reduce multicollinearity"
   ]
  },
  {
   "cell_type": "code",
   "execution_count": 50,
   "metadata": {},
   "outputs": [
    {
     "data": {
      "text/plain": [
       "const                           480.703101\n",
       "med_income_k                      4.214323\n",
       "prop_20_34                        4.098265\n",
       "med_rooms_in_house                3.332932\n",
       "median_gross_rent_k               3.289824\n",
       "prop_college_grad_student         2.945532\n",
       "vacant_rental_units               2.936648\n",
       "renter_household_size             2.779282\n",
       "prop_white                        2.492536\n",
       "rental_vacancy_rate               2.185642\n",
       "prop_same_residence_year_ago      2.168648\n",
       "prop_english_only                 2.149256\n",
       "mean_travel_time_work             2.015601\n",
       "prop_65_older                     1.946720\n",
       "clist_count_vacant                1.892116\n",
       "proportionate_count_vacant        1.823091\n",
       "distance_to_center_km             1.812044\n",
       "prop_built_before_1940            1.616302\n",
       "listings_per_unit                 1.352357\n",
       "listings_per_vacant_unit          1.321419\n",
       "prop_male                         1.229328\n",
       "dtype: float64"
      ]
     },
     "execution_count": 50,
     "metadata": {},
     "output_type": "execute_result"
    }
   ],
   "source": [
    "# remove some predictors\n",
    "remove = ['pop_density_k_km', 'renter_occupied_units_km','prop_burden', \n",
    "          'count_renter_occupied_units', 'total_pop', 'prop_foreign_born', \n",
    "          'prop_renting', 'prop_commute_drive_alone', 'med_home_value_k', \n",
    "          'prop_single_fam_detached', 'median_age', 'count_rental_units',\n",
    "          'prop_nonrelatives_household', 'prop_below_poverty', 'prop_bachelors_or_higher',\n",
    "          'dummy_asian_major', 'dummy_black_major', 'dummy_hispanic_major', 'dummy_white_major',\n",
    "          'dummy_asian_plural', 'dummy_black_plural', 'dummy_hispanic_plural', 'dummy_white_plural',\n",
    "          'prop_asian', 'prop_black', 'prop_hispanic']\n",
    "\n",
    "X = tracts.dropna()[predictors_all].drop(columns=remove)\n",
    "predictors_reduced = sorted(X.columns)\n",
    "Xc = add_constant(X)\n",
    "vifs = [vif(Xc.values, i) for i in range(len(Xc.columns))]\n",
    "pd.Series(data=vifs, index=Xc.columns).sort_values(ascending=False)"
   ]
  },
  {
   "cell_type": "code",
   "execution_count": 51,
   "metadata": {},
   "outputs": [
    {
     "name": "stdout",
     "output_type": "stream",
     "text": [
      "3169.6380174220462\n",
      "2702.746728280573\n",
      "5.593194638744864\n"
     ]
    }
   ],
   "source": [
    "# calculate condition number with reduced predictors\n",
    "print(np.linalg.cond(Xc))\n",
    "print(np.linalg.cond(X))\n",
    "print(np.linalg.cond(zscore(X)))"
   ]
  },
  {
   "cell_type": "code",
   "execution_count": 52,
   "metadata": {},
   "outputs": [
    {
     "data": {
      "text/plain": [
       "med_income_k                  median_gross_rent_k             0.738751\n",
       "prop_20_34                    prop_college_grad_student       0.692314\n",
       "vacant_rental_units           rental_vacancy_rate             0.681734\n",
       "prop_20_34                    prop_same_residence_year_ago    0.593674\n",
       "med_income_k                  prop_white                      0.572025\n",
       "vacant_rental_units           proportionate_count_vacant      0.552818\n",
       "med_rooms_in_house            prop_20_34                      0.532764\n",
       "prop_college_grad_student     renter_household_size           0.470721\n",
       "prop_same_residence_year_ago  prop_college_grad_student       0.466810\n",
       "renter_household_size         prop_white                      0.461049\n",
       "dtype: float64"
      ]
     },
     "execution_count": 52,
     "metadata": {},
     "output_type": "execute_result"
    }
   ],
   "source": [
    "# now these predictor vars have the highest pairwise correlations\n",
    "# compare to where we did this earlier: the top 10 are much less correlated now\n",
    "correlations = X.corr()\n",
    "correlations.stack().abs().sort_values(ascending=False)[len(X.columns):].drop_duplicates().head(10)"
   ]
  },
  {
   "cell_type": "markdown",
   "metadata": {},
   "source": [
    "## Inspect the response variable's relationship with the predictors"
   ]
  },
  {
   "cell_type": "code",
   "execution_count": 53,
   "metadata": {},
   "outputs": [],
   "source": [
    "predictors_model = ['rental_vacancy_rate',\n",
    "                    'prop_same_residence_year_ago',\n",
    "                    'distance_to_center_km',\n",
    "                    'mean_travel_time_work',\n",
    "                    'prop_built_before_1940',\n",
    "                    'med_rooms_in_house',\n",
    "                    'median_gross_rent_k',\n",
    "                    'med_income_k',\n",
    "                    'prop_20_34',\n",
    "                    'prop_65_older',\n",
    "                    'prop_college_grad_student',\n",
    "                    'prop_english_only',\n",
    "                    'renter_household_size',\n",
    "                    'prop_bachelors_or_higher',\n",
    "                    'dummy_white_major',\n",
    "                    'dummy_black_major',\n",
    "                    'dummy_hispanic_major']\n",
    "predictors_model = sorted(predictors_model)"
   ]
  },
  {
   "cell_type": "code",
   "execution_count": 54,
   "metadata": {},
   "outputs": [],
   "source": [
    "response = 'bias_log_vacant'"
   ]
  },
  {
   "cell_type": "code",
   "execution_count": 55,
   "metadata": {},
   "outputs": [],
   "source": [
    "# bivariate regression, show r^2 and p-value and plot\n",
    "def bivariate_regress(df, response, predictor, ax):\n",
    "\n",
    "    # first regress y on x to get slope, intercept, r, p-value, and std error\n",
    "    x = df[predictor]\n",
    "    y = df[response]\n",
    "    m, b, r, p, std_err = stats.linregress(x=x, y=y)\n",
    "    y_line = m * x + b\n",
    "\n",
    "    # then scatterplot with bivariate line\n",
    "    ax.scatter(x, y, s=2, marker='.', zorder=1)\n",
    "    ax.plot(x, y_line, ls='--', c='k', alpha=0.5, linewidth=1, zorder=2)\n",
    "    ax.set_xlim((x.min(), x.max()))\n",
    "    ax.set_ylim((y.min(), y.max()))\n",
    "    ax.set_xlabel(predictor)\n",
    "    ax.set_ylabel(response)\n",
    "    ax.set_title('r2={:.3f}, m={:.3f}, p={:.3f}'.format(r**2, m, p))\n",
    "    return ax"
   ]
  },
  {
   "cell_type": "code",
   "execution_count": 56,
   "metadata": {},
   "outputs": [],
   "source": [
    "# create figure and axes\n",
    "n = len(predictors_model)\n",
    "ncols = int(np.ceil(np.sqrt(n)))\n",
    "nrows = int(np.ceil(n / ncols))\n",
    "fig, axes = plt.subplots(nrows, ncols, figsize=(ncols*5, nrows*5))\n",
    "axes = [item for sublist in axes for item in sublist]\n",
    "\n",
    "# get pairs of dep_var vs ind_var\n",
    "var_pairs = [(response, predictor) for predictor in predictors_model]\n",
    "\n",
    "# for each axis and pair of variables, plot a simple regression\n",
    "for ax, (response, predictor) in zip(axes, var_pairs):\n",
    "    ax = bivariate_regress(tracts.dropna(), response, predictor, ax)\n",
    "\n",
    "# save to disk and show\n",
    "fig.savefig('images/scatter_response_vs_predictors_original.jpg', bbox_inches='tight', dpi=150)\n",
    "plt.close()"
   ]
  },
  {
   "cell_type": "markdown",
   "metadata": {},
   "source": [
    "#### Transform predictors for better linearity"
   ]
  },
  {
   "cell_type": "code",
   "execution_count": 57,
   "metadata": {},
   "outputs": [],
   "source": [
    "vars_to_log = ['med_income_k', 'distance_to_center_km', 'mean_travel_time_work', 'renter_household_size']\n",
    "for var in vars_to_log:\n",
    "    new_var = '{}_log'.format(var)\n",
    "    tracts[new_var] = np.log(tracts[var])\n",
    "    predictors_model = [predictor for predictor in predictors_model if predictor != var]\n",
    "    predictors_model.append(new_var)"
   ]
  },
  {
   "cell_type": "code",
   "execution_count": 58,
   "metadata": {},
   "outputs": [],
   "source": [
    "# add any interaction terms\n",
    "tracts['prop_white*income_log'] = tracts['prop_white'] * tracts['med_income_k_log']\n",
    "predictors_model = sorted(predictors_model) + ['prop_white*income_log']"
   ]
  },
  {
   "cell_type": "code",
   "execution_count": 59,
   "metadata": {},
   "outputs": [],
   "source": [
    "# create figure and axes\n",
    "n = len(predictors_model)\n",
    "ncols = int(np.ceil(np.sqrt(n)))\n",
    "nrows = int(np.ceil(n / ncols))\n",
    "fig, axes = plt.subplots(nrows, ncols, figsize=(ncols*5, nrows*5))\n",
    "axes = [item for sublist in axes for item in sublist]\n",
    "\n",
    "# get pairs of dep_var vs ind_var\n",
    "var_pairs = [(response, predictor) for predictor in predictors_model]\n",
    "\n",
    "# for each axis and pair of variables, plot a simple regression\n",
    "for ax, (response, predictor) in zip(axes, var_pairs):\n",
    "    ax = bivariate_regress(tracts.dropna(), response, predictor, ax)\n",
    "\n",
    "# save to disk and show\n",
    "fig.savefig('images/scatter_response_vs_predictors_transformed.jpg', bbox_inches='tight', dpi=150)\n",
    "plt.close()"
   ]
  },
  {
   "cell_type": "markdown",
   "metadata": {},
   "source": [
    "## Identify outliers"
   ]
  },
  {
   "cell_type": "code",
   "execution_count": 60,
   "metadata": {},
   "outputs": [
    {
     "data": {
      "text/plain": [
       "289"
      ]
     },
     "execution_count": 60,
     "metadata": {},
     "output_type": "execute_result"
    }
   ],
   "source": [
    "threshold = 3 #standard deviations above/below the mean\n",
    "cols = ['bias_diff', 'bias_log_vacant']\n",
    "outliers = []\n",
    "for col in cols:\n",
    "    zscores = (tracts[col] - tracts[col].mean()) / tracts[col].std()\n",
    "    outlier_tracts = zscores[zscores.abs() > threshold].index\n",
    "    outliers.extend(outlier_tracts)\n",
    "\n",
    "len(outliers)\n",
    "#tracts = tracts.drop(outliers)"
   ]
  },
  {
   "cell_type": "markdown",
   "metadata": {},
   "source": [
    "## Add city dummies to control for regional differences"
   ]
  },
  {
   "cell_type": "code",
   "execution_count": 61,
   "metadata": {},
   "outputs": [],
   "source": [
    "# add dummies\n",
    "place_names = sorted(tracts['place_name'].unique())\n",
    "for place_name in place_names:\n",
    "    tracts[place_name] = tracts['place_name'].map(lambda x: 1 if x==place_name else 0)"
   ]
  },
  {
   "cell_type": "code",
   "execution_count": 62,
   "metadata": {},
   "outputs": [],
   "source": [
    "# remove one dummy to prevent perfect collinearity\n",
    "# ie, a subset of predictors sums to 1 (which full set of dummies will do)\n",
    "city_dummies = place_names[:-1]\n",
    "predictors = predictors_model + city_dummies"
   ]
  },
  {
   "cell_type": "markdown",
   "metadata": {},
   "source": [
    "## Show results and save feature set to disk"
   ]
  },
  {
   "cell_type": "code",
   "execution_count": 63,
   "metadata": {},
   "outputs": [
    {
     "name": "stdout",
     "output_type": "stream",
     "text": [
      "12328\n"
     ]
    },
    {
     "data": {
      "text/html": [
       "<div>\n",
       "<style scoped>\n",
       "    .dataframe tbody tr th:only-of-type {\n",
       "        vertical-align: middle;\n",
       "    }\n",
       "\n",
       "    .dataframe tbody tr th {\n",
       "        vertical-align: top;\n",
       "    }\n",
       "\n",
       "    .dataframe thead th {\n",
       "        text-align: right;\n",
       "    }\n",
       "</style>\n",
       "<table border=\"1\" class=\"dataframe\">\n",
       "  <thead>\n",
       "    <tr style=\"text-align: right;\">\n",
       "      <th></th>\n",
       "      <th>land_area</th>\n",
       "      <th>place_geoid</th>\n",
       "      <th>place_name</th>\n",
       "      <th>total_pop</th>\n",
       "      <th>median_age</th>\n",
       "      <th>prop_65_older</th>\n",
       "      <th>prop_hispanic</th>\n",
       "      <th>prop_white</th>\n",
       "      <th>prop_black</th>\n",
       "      <th>prop_asian</th>\n",
       "      <th>...</th>\n",
       "      <th>Salt Lake City, UT</th>\n",
       "      <th>San Antonio, TX</th>\n",
       "      <th>San Diego, CA</th>\n",
       "      <th>San Francisco, CA</th>\n",
       "      <th>San Jose, CA</th>\n",
       "      <th>Seattle, WA</th>\n",
       "      <th>St. Louis, MO</th>\n",
       "      <th>Tampa, FL</th>\n",
       "      <th>Virginia Beach, VA</th>\n",
       "      <th>Washington, DC</th>\n",
       "    </tr>\n",
       "    <tr>\n",
       "      <th>GEOID</th>\n",
       "      <th></th>\n",
       "      <th></th>\n",
       "      <th></th>\n",
       "      <th></th>\n",
       "      <th></th>\n",
       "      <th></th>\n",
       "      <th></th>\n",
       "      <th></th>\n",
       "      <th></th>\n",
       "      <th></th>\n",
       "      <th></th>\n",
       "      <th></th>\n",
       "      <th></th>\n",
       "      <th></th>\n",
       "      <th></th>\n",
       "      <th></th>\n",
       "      <th></th>\n",
       "      <th></th>\n",
       "      <th></th>\n",
       "      <th></th>\n",
       "      <th></th>\n",
       "    </tr>\n",
       "  </thead>\n",
       "  <tbody>\n",
       "    <tr>\n",
       "      <th>01073000100</th>\n",
       "      <td>7549578</td>\n",
       "      <td>0107000</td>\n",
       "      <td>Birmingham, AL</td>\n",
       "      <td>2970.0</td>\n",
       "      <td>32.2</td>\n",
       "      <td>0.116</td>\n",
       "      <td>0.046</td>\n",
       "      <td>0.171</td>\n",
       "      <td>0.785</td>\n",
       "      <td>0.000</td>\n",
       "      <td>...</td>\n",
       "      <td>0</td>\n",
       "      <td>0</td>\n",
       "      <td>0</td>\n",
       "      <td>0</td>\n",
       "      <td>0</td>\n",
       "      <td>0</td>\n",
       "      <td>0</td>\n",
       "      <td>0</td>\n",
       "      <td>0</td>\n",
       "      <td>0</td>\n",
       "    </tr>\n",
       "    <tr>\n",
       "      <th>01073000300</th>\n",
       "      <td>2093104</td>\n",
       "      <td>0107000</td>\n",
       "      <td>Birmingham, AL</td>\n",
       "      <td>2494.0</td>\n",
       "      <td>36.5</td>\n",
       "      <td>0.074</td>\n",
       "      <td>0.180</td>\n",
       "      <td>0.046</td>\n",
       "      <td>0.672</td>\n",
       "      <td>0.084</td>\n",
       "      <td>...</td>\n",
       "      <td>0</td>\n",
       "      <td>0</td>\n",
       "      <td>0</td>\n",
       "      <td>0</td>\n",
       "      <td>0</td>\n",
       "      <td>0</td>\n",
       "      <td>0</td>\n",
       "      <td>0</td>\n",
       "      <td>0</td>\n",
       "      <td>0</td>\n",
       "    </tr>\n",
       "    <tr>\n",
       "      <th>01073000400</th>\n",
       "      <td>8001582</td>\n",
       "      <td>0107000</td>\n",
       "      <td>Birmingham, AL</td>\n",
       "      <td>3437.0</td>\n",
       "      <td>30.6</td>\n",
       "      <td>0.093</td>\n",
       "      <td>0.007</td>\n",
       "      <td>0.079</td>\n",
       "      <td>0.908</td>\n",
       "      <td>0.000</td>\n",
       "      <td>...</td>\n",
       "      <td>0</td>\n",
       "      <td>0</td>\n",
       "      <td>0</td>\n",
       "      <td>0</td>\n",
       "      <td>0</td>\n",
       "      <td>0</td>\n",
       "      <td>0</td>\n",
       "      <td>0</td>\n",
       "      <td>0</td>\n",
       "      <td>0</td>\n",
       "    </tr>\n",
       "    <tr>\n",
       "      <th>01073000500</th>\n",
       "      <td>4819145</td>\n",
       "      <td>0107000</td>\n",
       "      <td>Birmingham, AL</td>\n",
       "      <td>3735.0</td>\n",
       "      <td>35.8</td>\n",
       "      <td>0.092</td>\n",
       "      <td>0.014</td>\n",
       "      <td>0.050</td>\n",
       "      <td>0.929</td>\n",
       "      <td>0.000</td>\n",
       "      <td>...</td>\n",
       "      <td>0</td>\n",
       "      <td>0</td>\n",
       "      <td>0</td>\n",
       "      <td>0</td>\n",
       "      <td>0</td>\n",
       "      <td>0</td>\n",
       "      <td>0</td>\n",
       "      <td>0</td>\n",
       "      <td>0</td>\n",
       "      <td>0</td>\n",
       "    </tr>\n",
       "    <tr>\n",
       "      <th>01073000700</th>\n",
       "      <td>3520564</td>\n",
       "      <td>0107000</td>\n",
       "      <td>Birmingham, AL</td>\n",
       "      <td>2562.0</td>\n",
       "      <td>25.4</td>\n",
       "      <td>0.103</td>\n",
       "      <td>0.025</td>\n",
       "      <td>0.000</td>\n",
       "      <td>0.977</td>\n",
       "      <td>0.000</td>\n",
       "      <td>...</td>\n",
       "      <td>0</td>\n",
       "      <td>0</td>\n",
       "      <td>0</td>\n",
       "      <td>0</td>\n",
       "      <td>0</td>\n",
       "      <td>0</td>\n",
       "      <td>0</td>\n",
       "      <td>0</td>\n",
       "      <td>0</td>\n",
       "      <td>0</td>\n",
       "    </tr>\n",
       "  </tbody>\n",
       "</table>\n",
       "<p>5 rows × 120 columns</p>\n",
       "</div>"
      ],
      "text/plain": [
       "             land_area place_geoid      place_name  total_pop  median_age  \\\n",
       "GEOID                                                                       \n",
       "01073000100    7549578     0107000  Birmingham, AL     2970.0        32.2   \n",
       "01073000300    2093104     0107000  Birmingham, AL     2494.0        36.5   \n",
       "01073000400    8001582     0107000  Birmingham, AL     3437.0        30.6   \n",
       "01073000500    4819145     0107000  Birmingham, AL     3735.0        35.8   \n",
       "01073000700    3520564     0107000  Birmingham, AL     2562.0        25.4   \n",
       "\n",
       "             prop_65_older  prop_hispanic  prop_white  prop_black  prop_asian  \\\n",
       "GEOID                                                                           \n",
       "01073000100          0.116          0.046       0.171       0.785       0.000   \n",
       "01073000300          0.074          0.180       0.046       0.672       0.084   \n",
       "01073000400          0.093          0.007       0.079       0.908       0.000   \n",
       "01073000500          0.092          0.014       0.050       0.929       0.000   \n",
       "01073000700          0.103          0.025       0.000       0.977       0.000   \n",
       "\n",
       "                  ...        Salt Lake City, UT  San Antonio, TX  \\\n",
       "GEOID             ...                                              \n",
       "01073000100       ...                         0                0   \n",
       "01073000300       ...                         0                0   \n",
       "01073000400       ...                         0                0   \n",
       "01073000500       ...                         0                0   \n",
       "01073000700       ...                         0                0   \n",
       "\n",
       "             San Diego, CA  San Francisco, CA  San Jose, CA  Seattle, WA  \\\n",
       "GEOID                                                                      \n",
       "01073000100              0                  0             0            0   \n",
       "01073000300              0                  0             0            0   \n",
       "01073000400              0                  0             0            0   \n",
       "01073000500              0                  0             0            0   \n",
       "01073000700              0                  0             0            0   \n",
       "\n",
       "             St. Louis, MO  Tampa, FL  Virginia Beach, VA  Washington, DC  \n",
       "GEOID                                                                      \n",
       "01073000100              0          0                   0               0  \n",
       "01073000300              0          0                   0               0  \n",
       "01073000400              0          0                   0               0  \n",
       "01073000500              0          0                   0               0  \n",
       "01073000700              0          0                   0               0  \n",
       "\n",
       "[5 rows x 120 columns]"
      ]
     },
     "execution_count": 63,
     "metadata": {},
     "output_type": "execute_result"
    }
   ],
   "source": [
    "# done, show results\n",
    "print(len(tracts))\n",
    "tracts.head()"
   ]
  },
  {
   "cell_type": "code",
   "execution_count": 64,
   "metadata": {},
   "outputs": [
    {
     "data": {
      "text/plain": [
       "\"['distance_to_center_km_log', 'dummy_black_major', 'dummy_hispanic_major', 'dummy_white_major', 'mean_travel_time_work_log', 'med_income_k_log', 'med_rooms_in_house', 'median_gross_rent_k', 'prop_20_34', 'prop_65_older', 'prop_bachelors_or_higher', 'prop_built_before_1940', 'prop_college_grad_student', 'prop_english_only', 'prop_same_residence_year_ago', 'rental_vacancy_rate', 'renter_household_size_log', 'prop_white*income_log']\""
      ]
     },
     "execution_count": 64,
     "metadata": {},
     "output_type": "execute_result"
    }
   ],
   "source": [
    "str(predictors_model)"
   ]
  },
  {
   "cell_type": "code",
   "execution_count": 65,
   "metadata": {},
   "outputs": [
    {
     "data": {
      "text/plain": [
       "\"['Atlanta, GA', 'Austin, TX', 'Baltimore, MD', 'Birmingham, AL', 'Boston, MA', 'Buffalo, NY', 'Charlotte, NC', 'Chicago, IL', 'Cincinnati, OH', 'Cleveland, OH', 'Columbus, OH', 'Dallas, TX', 'Denver, CO', 'Detroit, MI', 'Hartford, CT', 'Houston, TX', 'Indianapolis, IN', 'Jacksonville, FL', 'Kansas City, MO', 'Las Vegas, NV', 'Los Angeles, CA', 'Louisville, KY', 'Memphis, TN', 'Miami, FL', 'Milwaukee, WI', 'Minneapolis, MN', 'Nashville, TN', 'New Orleans, LA', 'New York, NY', 'Oklahoma City, OK', 'Orlando, FL', 'Philadelphia, PA', 'Phoenix, AZ', 'Pittsburgh, PA', 'Portland, OR', 'Providence, RI', 'Raleigh, NC', 'Richmond, VA', 'Riverside, CA', 'Sacramento, CA', 'Salt Lake City, UT', 'San Antonio, TX', 'San Diego, CA', 'San Francisco, CA', 'San Jose, CA', 'Seattle, WA', 'St. Louis, MO', 'Tampa, FL', 'Virginia Beach, VA']\""
      ]
     },
     "execution_count": 65,
     "metadata": {},
     "output_type": "execute_result"
    }
   ],
   "source": [
    "str(city_dummies)"
   ]
  },
  {
   "cell_type": "code",
   "execution_count": 66,
   "metadata": {},
   "outputs": [
    {
     "name": "stdout",
     "output_type": "stream",
     "text": [
      "data/features.csv\n"
     ]
    }
   ],
   "source": [
    "tracts.to_csv(output_path, index=True, encoding='utf-8')\n",
    "print(output_path)"
   ]
  },
  {
   "cell_type": "code",
   "execution_count": null,
   "metadata": {},
   "outputs": [],
   "source": []
  }
 ],
 "metadata": {
  "kernelspec": {
   "display_name": "Python 3",
   "language": "python",
   "name": "python3"
  },
  "language_info": {
   "codemirror_mode": {
    "name": "ipython",
    "version": 3
   },
   "file_extension": ".py",
   "mimetype": "text/x-python",
   "name": "python",
   "nbconvert_exporter": "python",
   "pygments_lexer": "ipython3",
   "version": "3.6.4"
  }
 },
 "nbformat": 4,
 "nbformat_minor": 2
}
