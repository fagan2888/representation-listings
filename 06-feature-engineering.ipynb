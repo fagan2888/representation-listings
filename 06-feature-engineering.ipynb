{
 "cells": [
  {
   "cell_type": "markdown",
   "metadata": {},
   "source": [
    "# To what extend are census tracts over- or under-represented in Craigslist rental listings?\n",
    "\n",
    "For each city, get all rental listings and get count per tract. For each tract that has at least one listing, get census variables (2014 ACS DP) including number of renter-occupied units. Calculate each tract's share of total renter-occupied units. Then allocate the number of listings proportionally according to that share. Then compare how proportional allocation compares to Craigslist allocation."
   ]
  },
  {
   "cell_type": "code",
   "execution_count": 1,
   "metadata": {},
   "outputs": [],
   "source": [
    "import geopandas as gpd\n",
    "import numpy as np\n",
    "import osmnx as ox\n",
    "import pandas as pd\n",
    "from shapely.geometry import Point\n",
    "\n",
    "census_data_path = 'data/downloaded_census_data.geojson'\n",
    "craigslist_path = 'data/listings_joined_tracts.csv'\n",
    "cities_path = 'data/study_sites.csv'\n",
    "output_path = 'data/features.csv'"
   ]
  },
  {
   "cell_type": "markdown",
   "metadata": {},
   "source": [
    "## Load census tracts data\n",
    "\n",
    "These are all the tracts within our study sites (cities), and they have ACS variables loaded."
   ]
  },
  {
   "cell_type": "code",
   "execution_count": 2,
   "metadata": {},
   "outputs": [
    {
     "name": "stdout",
     "output_type": "stream",
     "text": [
      "12505\n"
     ]
    },
    {
     "data": {
      "text/html": [
       "<div>\n",
       "<style scoped>\n",
       "    .dataframe tbody tr th:only-of-type {\n",
       "        vertical-align: middle;\n",
       "    }\n",
       "\n",
       "    .dataframe tbody tr th {\n",
       "        vertical-align: top;\n",
       "    }\n",
       "\n",
       "    .dataframe thead th {\n",
       "        text-align: right;\n",
       "    }\n",
       "</style>\n",
       "<table border=\"1\" class=\"dataframe\">\n",
       "  <thead>\n",
       "    <tr style=\"text-align: right;\">\n",
       "      <th></th>\n",
       "      <th>ALAND</th>\n",
       "      <th>place_geoid</th>\n",
       "      <th>place_name</th>\n",
       "      <th>DP05_0001E</th>\n",
       "      <th>DP05_0017E</th>\n",
       "      <th>DP05_0008PE</th>\n",
       "      <th>DP05_0009PE</th>\n",
       "      <th>DP05_0066PE</th>\n",
       "      <th>DP05_0072PE</th>\n",
       "      <th>DP05_0033PE</th>\n",
       "      <th>...</th>\n",
       "      <th>DP02_0022PE</th>\n",
       "      <th>DP02_0079PE</th>\n",
       "      <th>DP02_0067PE</th>\n",
       "      <th>DP02_0111PE</th>\n",
       "      <th>DP02_0092PE</th>\n",
       "      <th>state</th>\n",
       "      <th>county</th>\n",
       "      <th>DP05_0072PE_2012</th>\n",
       "      <th>DP05_0072PE_2015</th>\n",
       "      <th>geometry</th>\n",
       "    </tr>\n",
       "    <tr>\n",
       "      <th>GEOID</th>\n",
       "      <th></th>\n",
       "      <th></th>\n",
       "      <th></th>\n",
       "      <th></th>\n",
       "      <th></th>\n",
       "      <th></th>\n",
       "      <th></th>\n",
       "      <th></th>\n",
       "      <th></th>\n",
       "      <th></th>\n",
       "      <th></th>\n",
       "      <th></th>\n",
       "      <th></th>\n",
       "      <th></th>\n",
       "      <th></th>\n",
       "      <th></th>\n",
       "      <th></th>\n",
       "      <th></th>\n",
       "      <th></th>\n",
       "      <th></th>\n",
       "      <th></th>\n",
       "    </tr>\n",
       "  </thead>\n",
       "  <tbody>\n",
       "    <tr>\n",
       "      <th>01073000100</th>\n",
       "      <td>7549578</td>\n",
       "      <td>0107000</td>\n",
       "      <td>Birmingham, AL</td>\n",
       "      <td>2970.0</td>\n",
       "      <td>32.2</td>\n",
       "      <td>4.3</td>\n",
       "      <td>16.5</td>\n",
       "      <td>4.6</td>\n",
       "      <td>17.1</td>\n",
       "      <td>78.5</td>\n",
       "      <td>...</td>\n",
       "      <td>3.8</td>\n",
       "      <td>84.7</td>\n",
       "      <td>9.0</td>\n",
       "      <td>94.2</td>\n",
       "      <td>3.1</td>\n",
       "      <td>01</td>\n",
       "      <td>073</td>\n",
       "      <td>15.5</td>\n",
       "      <td>16.9</td>\n",
       "      <td>POLYGON ((-86.74404800000001 33.573646, -86.74...</td>\n",
       "    </tr>\n",
       "    <tr>\n",
       "      <th>01073000300</th>\n",
       "      <td>2093104</td>\n",
       "      <td>0107000</td>\n",
       "      <td>Birmingham, AL</td>\n",
       "      <td>2494.0</td>\n",
       "      <td>36.5</td>\n",
       "      <td>7.9</td>\n",
       "      <td>17.2</td>\n",
       "      <td>18.0</td>\n",
       "      <td>4.6</td>\n",
       "      <td>67.2</td>\n",
       "      <td>...</td>\n",
       "      <td>3.6</td>\n",
       "      <td>85.9</td>\n",
       "      <td>14.3</td>\n",
       "      <td>77.7</td>\n",
       "      <td>16.5</td>\n",
       "      <td>01</td>\n",
       "      <td>073</td>\n",
       "      <td>7.6</td>\n",
       "      <td>5.4</td>\n",
       "      <td>POLYGON ((-86.76195 33.540608, -86.761394 33.5...</td>\n",
       "    </tr>\n",
       "    <tr>\n",
       "      <th>01073000400</th>\n",
       "      <td>8001582</td>\n",
       "      <td>0107000</td>\n",
       "      <td>Birmingham, AL</td>\n",
       "      <td>3437.0</td>\n",
       "      <td>30.6</td>\n",
       "      <td>7.0</td>\n",
       "      <td>18.1</td>\n",
       "      <td>0.7</td>\n",
       "      <td>7.9</td>\n",
       "      <td>90.8</td>\n",
       "      <td>...</td>\n",
       "      <td>7.3</td>\n",
       "      <td>78.4</td>\n",
       "      <td>3.3</td>\n",
       "      <td>98.2</td>\n",
       "      <td>0.5</td>\n",
       "      <td>01</td>\n",
       "      <td>073</td>\n",
       "      <td>6.9</td>\n",
       "      <td>9.4</td>\n",
       "      <td>POLYGON ((-86.78617300000001 33.5658, -86.7857...</td>\n",
       "    </tr>\n",
       "  </tbody>\n",
       "</table>\n",
       "<p>3 rows × 37 columns</p>\n",
       "</div>"
      ],
      "text/plain": [
       "               ALAND place_geoid      place_name  DP05_0001E  DP05_0017E  \\\n",
       "GEOID                                                                      \n",
       "01073000100  7549578     0107000  Birmingham, AL      2970.0        32.2   \n",
       "01073000300  2093104     0107000  Birmingham, AL      2494.0        36.5   \n",
       "01073000400  8001582     0107000  Birmingham, AL      3437.0        30.6   \n",
       "\n",
       "             DP05_0008PE  DP05_0009PE  DP05_0066PE  DP05_0072PE  DP05_0033PE  \\\n",
       "GEOID                                                                          \n",
       "01073000100          4.3         16.5          4.6         17.1         78.5   \n",
       "01073000300          7.9         17.2         18.0          4.6         67.2   \n",
       "01073000400          7.0         18.1          0.7          7.9         90.8   \n",
       "\n",
       "                                   ...                          DP02_0022PE  \\\n",
       "GEOID                              ...                                        \n",
       "01073000100                        ...                                  3.8   \n",
       "01073000300                        ...                                  3.6   \n",
       "01073000400                        ...                                  7.3   \n",
       "\n",
       "             DP02_0079PE  DP02_0067PE  DP02_0111PE  DP02_0092PE  state  \\\n",
       "GEOID                                                                    \n",
       "01073000100         84.7          9.0         94.2          3.1     01   \n",
       "01073000300         85.9         14.3         77.7         16.5     01   \n",
       "01073000400         78.4          3.3         98.2          0.5     01   \n",
       "\n",
       "             county  DP05_0072PE_2012  DP05_0072PE_2015  \\\n",
       "GEOID                                                     \n",
       "01073000100     073              15.5              16.9   \n",
       "01073000300     073               7.6               5.4   \n",
       "01073000400     073               6.9               9.4   \n",
       "\n",
       "                                                      geometry  \n",
       "GEOID                                                           \n",
       "01073000100  POLYGON ((-86.74404800000001 33.573646, -86.74...  \n",
       "01073000300  POLYGON ((-86.76195 33.540608, -86.761394 33.5...  \n",
       "01073000400  POLYGON ((-86.78617300000001 33.5658, -86.7857...  \n",
       "\n",
       "[3 rows x 37 columns]"
      ]
     },
     "execution_count": 2,
     "metadata": {},
     "output_type": "execute_result"
    }
   ],
   "source": [
    "tracts = gpd.read_file(census_data_path).rename(columns={'index':'GEOID'}).set_index('GEOID')\n",
    "assert tracts.index.is_unique\n",
    "print(len(tracts))\n",
    "tracts.head(3)"
   ]
  },
  {
   "cell_type": "markdown",
   "metadata": {},
   "source": [
    "## Load listings data\n",
    "\n",
    "These are cleaned rental listings and they have tracts fips code attached."
   ]
  },
  {
   "cell_type": "code",
   "execution_count": 3,
   "metadata": {},
   "outputs": [
    {
     "name": "stdout",
     "output_type": "stream",
     "text": [
      "1392866\n",
      "Wall time: 1.54 s\n"
     ]
    }
   ],
   "source": [
    "%%time\n",
    "dtypes = {'tract_geoid' : str}\n",
    "listings = pd.read_csv(craigslist_path, dtype=dtypes)\n",
    "print(len(listings))"
   ]
  },
  {
   "cell_type": "code",
   "execution_count": 4,
   "metadata": {},
   "outputs": [
    {
     "data": {
      "text/html": [
       "<div>\n",
       "<style scoped>\n",
       "    .dataframe tbody tr th:only-of-type {\n",
       "        vertical-align: middle;\n",
       "    }\n",
       "\n",
       "    .dataframe tbody tr th {\n",
       "        vertical-align: top;\n",
       "    }\n",
       "\n",
       "    .dataframe thead th {\n",
       "        text-align: right;\n",
       "    }\n",
       "</style>\n",
       "<table border=\"1\" class=\"dataframe\">\n",
       "  <thead>\n",
       "    <tr style=\"text-align: right;\">\n",
       "      <th></th>\n",
       "      <th>date</th>\n",
       "      <th>region</th>\n",
       "      <th>bedrooms</th>\n",
       "      <th>rent</th>\n",
       "      <th>sqft</th>\n",
       "      <th>tract_geoid</th>\n",
       "      <th>lat</th>\n",
       "      <th>lng</th>\n",
       "    </tr>\n",
       "  </thead>\n",
       "  <tbody>\n",
       "    <tr>\n",
       "      <th>0</th>\n",
       "      <td>2014-05-11</td>\n",
       "      <td>santabarbara</td>\n",
       "      <td>3.0</td>\n",
       "      <td>3500.0</td>\n",
       "      <td>1200.0</td>\n",
       "      <td>06083001304</td>\n",
       "      <td>34.399757</td>\n",
       "      <td>-119.726987</td>\n",
       "    </tr>\n",
       "    <tr>\n",
       "      <th>1</th>\n",
       "      <td>2014-05-11</td>\n",
       "      <td>santabarbara</td>\n",
       "      <td>2.0</td>\n",
       "      <td>850.0</td>\n",
       "      <td>882.0</td>\n",
       "      <td>06083002924</td>\n",
       "      <td>34.411019</td>\n",
       "      <td>-119.855845</td>\n",
       "    </tr>\n",
       "    <tr>\n",
       "      <th>2</th>\n",
       "      <td>2014-05-11</td>\n",
       "      <td>santabarbara</td>\n",
       "      <td>1.0</td>\n",
       "      <td>1290.0</td>\n",
       "      <td>NaN</td>\n",
       "      <td>06083002924</td>\n",
       "      <td>34.410415</td>\n",
       "      <td>-119.854330</td>\n",
       "    </tr>\n",
       "    <tr>\n",
       "      <th>3</th>\n",
       "      <td>2014-05-11</td>\n",
       "      <td>santabarbara</td>\n",
       "      <td>1.0</td>\n",
       "      <td>1660.0</td>\n",
       "      <td>NaN</td>\n",
       "      <td>06083000102</td>\n",
       "      <td>34.441460</td>\n",
       "      <td>-119.754324</td>\n",
       "    </tr>\n",
       "    <tr>\n",
       "      <th>4</th>\n",
       "      <td>2014-05-11</td>\n",
       "      <td>santabarbara</td>\n",
       "      <td>2.0</td>\n",
       "      <td>3200.0</td>\n",
       "      <td>NaN</td>\n",
       "      <td>06083002924</td>\n",
       "      <td>34.410416</td>\n",
       "      <td>-119.854530</td>\n",
       "    </tr>\n",
       "  </tbody>\n",
       "</table>\n",
       "</div>"
      ],
      "text/plain": [
       "         date        region  bedrooms    rent    sqft  tract_geoid        lat  \\\n",
       "0  2014-05-11  santabarbara       3.0  3500.0  1200.0  06083001304  34.399757   \n",
       "1  2014-05-11  santabarbara       2.0   850.0   882.0  06083002924  34.411019   \n",
       "2  2014-05-11  santabarbara       1.0  1290.0     NaN  06083002924  34.410415   \n",
       "3  2014-05-11  santabarbara       1.0  1660.0     NaN  06083000102  34.441460   \n",
       "4  2014-05-11  santabarbara       2.0  3200.0     NaN  06083002924  34.410416   \n",
       "\n",
       "          lng  \n",
       "0 -119.726987  \n",
       "1 -119.855845  \n",
       "2 -119.854330  \n",
       "3 -119.754324  \n",
       "4 -119.854530  "
      ]
     },
     "execution_count": 4,
     "metadata": {},
     "output_type": "execute_result"
    }
   ],
   "source": [
    "listings.head()"
   ]
  },
  {
   "cell_type": "code",
   "execution_count": 5,
   "metadata": {},
   "outputs": [
    {
     "data": {
      "text/plain": [
       "392179"
      ]
     },
     "execution_count": 5,
     "metadata": {},
     "output_type": "execute_result"
    }
   ],
   "source": [
    "# drop duplicates based on these attributes\n",
    "listings = listings.drop_duplicates(subset=['rent', 'sqft', 'bedrooms', 'neighborhood'])\n",
    "len(listings)"
   ]
  },
  {
   "cell_type": "code",
   "execution_count": 6,
   "metadata": {},
   "outputs": [
    {
     "data": {
      "text/plain": [
       "119005"
      ]
     },
     "execution_count": 6,
     "metadata": {},
     "output_type": "execute_result"
    }
   ],
   "source": [
    "# retain only those listings in the census tracts we're interested in, then convert to a geodataframe\n",
    "mask = listings['tract_geoid'].isin(tracts.index)\n",
    "listings_in_tracts = gpd.GeoDataFrame(listings[mask])\n",
    "listings_in_tracts['geometry'] = listings_in_tracts.apply(lambda row: Point((row['lng'], row['lat'])), axis=1)\n",
    "len(listings_in_tracts)"
   ]
  },
  {
   "cell_type": "code",
   "execution_count": 7,
   "metadata": {},
   "outputs": [],
   "source": [
    "# add city (place_geoid) to each listing\n",
    "listings_in_tracts = pd.merge(left=listings_in_tracts, right=tracts[['place_geoid']], \n",
    "                              how='inner', left_on='tract_geoid', right_index=True)"
   ]
  },
  {
   "cell_type": "code",
   "execution_count": 8,
   "metadata": {},
   "outputs": [
    {
     "data": {
      "text/plain": [
       "True     8537\n",
       "False    3968\n",
       "dtype: int64"
      ]
     },
     "execution_count": 8,
     "metadata": {},
     "output_type": "execute_result"
    }
   ],
   "source": [
    "# how many tracts are within our cities study areas but have no listings?\n",
    "tracts_with_listings = listings_in_tracts['tract_geoid'].unique()\n",
    "pd.Series(tracts.index.isin(tracts_with_listings)).value_counts()"
   ]
  },
  {
   "cell_type": "markdown",
   "metadata": {},
   "source": [
    "The listings are clustered into few tracts. Almost 1/3 of tracts have no listings at all."
   ]
  },
  {
   "cell_type": "code",
   "execution_count": 9,
   "metadata": {},
   "outputs": [
    {
     "data": {
      "text/plain": [
       "place_name\n",
       "New York, NY       1316\n",
       "Chicago, IL         406\n",
       "Houston, TX         267\n",
       "Los Angeles, CA     253\n",
       "Detroit, MI         188\n",
       "Name: ALAND, dtype: int64"
      ]
     },
     "execution_count": 9,
     "metadata": {},
     "output_type": "execute_result"
    }
   ],
   "source": [
    "# which cities have the most tracts without any craigslist listings?\n",
    "tracts[~(tracts.index.isin(tracts_with_listings))].groupby(['place_name']).count().iloc[:,0].sort_values(ascending=False).head()"
   ]
  },
  {
   "cell_type": "markdown",
   "metadata": {},
   "source": [
    "## Feature engineering"
   ]
  },
  {
   "cell_type": "code",
   "execution_count": 10,
   "metadata": {},
   "outputs": [
    {
     "data": {
      "text/plain": [
       "12505"
      ]
     },
     "execution_count": 10,
     "metadata": {},
     "output_type": "execute_result"
    }
   ],
   "source": [
    "len(tracts)"
   ]
  },
  {
   "cell_type": "code",
   "execution_count": 11,
   "metadata": {},
   "outputs": [
    {
     "data": {
      "text/plain": [
       "Index(['ALAND', 'place_geoid', 'place_name', 'DP05_0001E', 'DP05_0017E',\n",
       "       'DP05_0008PE', 'DP05_0009PE', 'DP05_0066PE', 'DP05_0072PE',\n",
       "       'DP05_0033PE', 'DP05_0039PE', 'DP04_0007PE', 'DP04_0088E', 'DP04_0036E',\n",
       "       'DP04_0025PE', 'DP04_0046PE', 'DP04_0046E', 'DP04_0005E', 'DP04_0048E',\n",
       "       'DP04_0132E', 'DP04_0139PE', 'DP04_0140PE', 'DP03_0062E', 'DP03_0025E',\n",
       "       'DP03_0019PE', 'DP03_0128PE', 'DP02_0057PE', 'DP02_0022PE',\n",
       "       'DP02_0079PE', 'DP02_0067PE', 'DP02_0111PE', 'DP02_0092PE', 'state',\n",
       "       'county', 'DP05_0072PE_2012', 'DP05_0072PE_2015', 'geometry'],\n",
       "      dtype='object')"
      ]
     },
     "execution_count": 11,
     "metadata": {},
     "output_type": "execute_result"
    }
   ],
   "source": [
    "tracts.columns"
   ]
  },
  {
   "cell_type": "markdown",
   "metadata": {},
   "source": [
    "#### First calculate distance from each tract's centroid to its city's center."
   ]
  },
  {
   "cell_type": "code",
   "execution_count": 12,
   "metadata": {},
   "outputs": [],
   "source": [
    "# load the city names that make up our study sites to get center lat/lng for each\n",
    "study_sites = pd.read_csv(cities_path, encoding='utf-8')\n",
    "study_sites['place_name'] = study_sites.apply(lambda row: '{}, {}'.format(row['city'], row['state']), axis=1)\n",
    "study_sites = study_sites.rename(columns={'lat':'lat_city_center', 'lng':'lng_city_center'}).drop(columns=['city', 'state'])"
   ]
  },
  {
   "cell_type": "code",
   "execution_count": 13,
   "metadata": {},
   "outputs": [],
   "source": [
    "# merge tracts with cities and calculate each tract's centroid\n",
    "tracts['centroid'] = tracts.centroid\n",
    "tracts = pd.merge(tracts.reset_index(), study_sites, how='left', on='place_name')\n",
    "tracts = tracts.set_index('GEOID')"
   ]
  },
  {
   "cell_type": "code",
   "execution_count": 14,
   "metadata": {},
   "outputs": [],
   "source": [
    "# calculate distance (km) from each tract's centroid to its city's center\n",
    "lat1 = tracts['centroid'].map(lambda pt: pt.y)\n",
    "lng1 = tracts['centroid'].map(lambda pt: pt.x)\n",
    "lat2 = tracts['lat_city_center']\n",
    "lng2 = tracts['lng_city_center']\n",
    "distances_m = ox.great_circle_vec(lat1, lng1, lat2, lng2)\n",
    "tracts['distance_to_center_km'] = distances_m / 1000."
   ]
  },
  {
   "cell_type": "markdown",
   "metadata": {},
   "source": [
    "#### Now calculate other features."
   ]
  },
  {
   "cell_type": "code",
   "execution_count": 15,
   "metadata": {},
   "outputs": [],
   "source": [
    "# population density (in thousands of persons per km2) and rental unit density (per km2)\n",
    "tracts['pop_density_k_km'] = (tracts['DP05_0001E'] / 1000.) / (tracts['ALAND'] / 1000000.)\n",
    "tracts['renter_occupied_units_km'] = tracts['DP04_0046E'] / (tracts['ALAND'] / 1000000.)"
   ]
  },
  {
   "cell_type": "code",
   "execution_count": 16,
   "metadata": {},
   "outputs": [],
   "source": [
    "# calculate median age and the pct aged 20-34\n",
    "tracts['pct_20_34'] = tracts['DP05_0008PE'] + tracts['DP05_0009PE']\n",
    "tracts = tracts.drop(columns=['DP05_0008PE', 'DP05_0009PE'])"
   ]
  },
  {
   "cell_type": "code",
   "execution_count": 17,
   "metadata": {},
   "outputs": [],
   "source": [
    "# calculate pct of tracts paying more than 30% of income in gross rent\n",
    "tracts['pct_burden'] = tracts['DP04_0139PE'] + tracts['DP04_0140PE']\n",
    "tracts = tracts.drop(columns=['DP04_0139PE', 'DP04_0140PE'])"
   ]
  },
  {
   "cell_type": "code",
   "execution_count": 18,
   "metadata": {},
   "outputs": [],
   "source": [
    "# calculate gross rent, income, and home value in thousands of dollars\n",
    "tracts['median_gross_rent_k'] = tracts['DP04_0132E'] / 1000.\n",
    "tracts['med_income_k'] = tracts['DP03_0062E'] / 1000.\n",
    "tracts['med_home_value_k'] = tracts['DP04_0088E'] / 1000.\n",
    "tracts = tracts.drop(columns=['DP03_0062E', 'DP04_0088E', 'DP04_0132E'])"
   ]
  },
  {
   "cell_type": "code",
   "execution_count": 19,
   "metadata": {},
   "outputs": [],
   "source": [
    "# calculate change in pct white over time\n",
    "tracts['pct_white_change_2012_2015'] = tracts['DP05_0072PE_2015'] - tracts['DP05_0072PE_2012']\n",
    "tracts = tracts.drop(columns=['DP05_0072PE_2015', 'DP05_0072PE_2012'])"
   ]
  },
  {
   "cell_type": "code",
   "execution_count": 20,
   "metadata": {},
   "outputs": [
    {
     "data": {
      "text/plain": [
       "Index(['land_area', 'place_geoid', 'place_name', 'total_pop', 'median_age',\n",
       "       'pct_hispanic', 'pct_white', 'pct_black', 'pct_asian',\n",
       "       'pct_single_fam_detached', 'med_rooms_in_house',\n",
       "       'pct_built_before_1940', 'pct_renting', 'count_renter_occupied_units',\n",
       "       'rental_vacancy_rate', 'renter_household_size', 'mean_travel_time_work',\n",
       "       'pct_commute_drive_alone', 'pct_below_poverty',\n",
       "       'pct_college_grad_student', 'pct_nonrelatives_household',\n",
       "       'pct_same_residence_year_ago', 'pct_bachelors_or_higher',\n",
       "       'pct_english_only', 'pct_foreign_born', 'state', 'county', 'geometry',\n",
       "       'centroid', 'lat_city_center', 'lng_city_center',\n",
       "       'distance_to_center_km', 'pop_density_k_km', 'renter_occupied_units_km',\n",
       "       'pct_20_34', 'pct_burden', 'median_gross_rent_k', 'med_income_k',\n",
       "       'med_home_value_k', 'pct_white_change_2012_2015'],\n",
       "      dtype='object')"
      ]
     },
     "execution_count": 20,
     "metadata": {},
     "output_type": "execute_result"
    }
   ],
   "source": [
    "# give every other variable a friendly name\n",
    "tracts = tracts.rename(columns={'ALAND'      :'land_area',\n",
    "                                'DP05_0001E' :'total_pop',\n",
    "                                'DP05_0017E' :'median_age',\n",
    "                                'DP05_0072PE':'pct_white',\n",
    "                                'DP05_0066PE':'pct_hispanic',\n",
    "                                'DP05_0033PE':'pct_black',\n",
    "                                'DP05_0039PE':'pct_asian',\n",
    "                                'DP02_0067PE':'pct_bachelors_or_higher',\n",
    "                                'DP04_0048E' :'renter_household_size',\n",
    "                                'DP04_0007PE':'pct_single_fam_detached',\n",
    "                                'DP04_0036E' :'med_rooms_in_house',\n",
    "                                'DP04_0025PE':'pct_built_before_1940',\n",
    "                                'DP04_0046PE':'pct_renting',\n",
    "                                'DP04_0046E' :'count_renter_occupied_units',\n",
    "                                'DP04_0005E' :'rental_vacancy_rate',\n",
    "                                'DP03_0025E' :'mean_travel_time_work',\n",
    "                                'DP03_0019PE':'pct_commute_drive_alone',\n",
    "                                'DP03_0128PE':'pct_below_poverty',\n",
    "                                'DP02_0057PE':'pct_college_grad_student',\n",
    "                                'DP02_0022PE':'pct_nonrelatives_household',\n",
    "                                'DP02_0079PE':'pct_same_residence_year_ago',\n",
    "                                'DP02_0111PE':'pct_english_only',\n",
    "                                'DP02_0092PE':'pct_foreign_born'})\n",
    "tracts.columns"
   ]
  },
  {
   "cell_type": "code",
   "execution_count": 21,
   "metadata": {},
   "outputs": [],
   "source": [
    "# turn pcts into proportions\n",
    "for col in tracts.columns:\n",
    "    if col.startswith('pct_'):\n",
    "        tracts[col] = tracts[col] / 100"
   ]
  },
  {
   "cell_type": "markdown",
   "metadata": {},
   "source": [
    "#### allocation of rental units/listings\n",
    "\n",
    "In each city, allocate all listings proportionately to each tract and count how many craigslist listings actually appear in each tract"
   ]
  },
  {
   "cell_type": "code",
   "execution_count": 22,
   "metadata": {},
   "outputs": [],
   "source": [
    "# group tracts by cities, so we can loop through one city at a time\n",
    "# to allocate city's rental listings proportionally among all its tracts\n",
    "cities_to_tracts = tracts.reset_index().groupby('place_geoid')"
   ]
  },
  {
   "cell_type": "code",
   "execution_count": 23,
   "metadata": {},
   "outputs": [
    {
     "name": "stdout",
     "output_type": "stream",
     "text": [
      "12505\n",
      "12505\n",
      "12505\n",
      "119005\n",
      "119005\n",
      "119005\n"
     ]
    }
   ],
   "source": [
    "proportionate_allocation = pd.Series()\n",
    "clist_allocation = pd.Series()\n",
    "\n",
    "# for each city's group of tracts\n",
    "for city_geoid, group_tracts in cities_to_tracts:\n",
    "    \n",
    "    # what share of the city's renter-occupied housing units does each tract have in reality?\n",
    "    group_tracts = group_tracts.set_index('GEOID')\n",
    "    tracts_shares = group_tracts['count_renter_occupied_units'] / group_tracts['count_renter_occupied_units'].sum()\n",
    "    city_listings = listings_in_tracts[listings_in_tracts['place_geoid']==city_geoid]\n",
    "    \n",
    "    # allocate rental listings to tracts according to their share of city's renter-occupied units\n",
    "    prop_allocation_city = tracts_shares * len(city_listings)\n",
    "    proportionate_allocation = proportionate_allocation.append(prop_allocation_city)\n",
    "    \n",
    "    # count how many craigslist listings appear in each tract in this city\n",
    "    clist_allocation_city = city_listings.groupby('tract_geoid')['place_geoid'].count()\n",
    "    clist_allocation = clist_allocation.append(clist_allocation_city)\n",
    "    \n",
    "# make sure to include any tracts that lack craigslist listings, and give them a zero count\n",
    "clist_allocation = clist_allocation.reindex(tracts.index, fill_value=0)\n",
    "\n",
    "# make sure all our counts match up\n",
    "print(len(tracts))\n",
    "print(len(clist_allocation))\n",
    "print(len(proportionate_allocation))\n",
    "print(len(listings_in_tracts))\n",
    "print(clist_allocation.sum())\n",
    "print(int(round(proportionate_allocation.sum())))\n",
    "assert len(tracts) == len(clist_allocation) == len(proportionate_allocation)\n",
    "assert len(listings_in_tracts) == clist_allocation.sum() == int(round(proportionate_allocation.sum()))"
   ]
  },
  {
   "cell_type": "markdown",
   "metadata": {},
   "source": [
    "#### Assemble our dataframe for statistical analysis: first, independent variables from census data"
   ]
  },
  {
   "cell_type": "code",
   "execution_count": 24,
   "metadata": {},
   "outputs": [],
   "source": [
    "tracts['clist_count'] = clist_allocation\n",
    "tracts['prop_count'] = proportionate_allocation"
   ]
  },
  {
   "cell_type": "markdown",
   "metadata": {},
   "source": [
    "#### Now calculate and transform dependent variable: how much craigslist is biased, per tract\n",
    "\n",
    "There are different ways to consider this."
   ]
  },
  {
   "cell_type": "code",
   "execution_count": 25,
   "metadata": {},
   "outputs": [],
   "source": [
    "# clean up the dataframe -- remove inf values\n",
    "to_replace = [np.inf, -np.inf]\n",
    "tracts = tracts.replace(to_replace, value=np.nan)\n",
    "\n",
    "# discard any tracts with zero renter-occupied units in them\n",
    "tracts = tracts[tracts['count_renter_occupied_units'] > 0]"
   ]
  },
  {
   "cell_type": "code",
   "execution_count": 26,
   "metadata": {},
   "outputs": [],
   "source": [
    "# bias_diff shows how many more listings we have than we would proportionally\n",
    "tracts['bias_diff'] = tracts['clist_count'] - tracts['prop_count']"
   ]
  },
  {
   "cell_type": "code",
   "execution_count": 27,
   "metadata": {},
   "outputs": [
    {
     "data": {
      "text/plain": [
       "<matplotlib.axes._subplots.AxesSubplot at 0x205abaacc88>"
      ]
     },
     "execution_count": 27,
     "metadata": {},
     "output_type": "execute_result"
    },
    {
     "data": {
      "image/png": "[encoded data removed]",
      "text/plain": [
       "<Figure size 432x288 with 1 Axes>"
      ]
     },
     "metadata": {},
     "output_type": "display_data"
    }
   ],
   "source": [
    "# bias_ratio shows how overrepresented this tract is on craigslist\n",
    "# add 1 to numerator and denominator to avoid divide by zero and log(0)\n",
    "tracts['bias_ratio'] = (tracts['clist_count'] + 1) / (tracts['prop_count'] + 1)\n",
    "\n",
    "# take log(bias) to make it more normally distributed\n",
    "tracts['bias_log'] = np.log(tracts['bias_ratio'])\n",
    "tracts['bias_log'].hist(bins=30)"
   ]
  },
  {
   "cell_type": "markdown",
   "metadata": {},
   "source": [
    "Ratios lack symmetry. When a < b, a/b ranges from 0 to 1. When a > b, a/b ranges from 1 to infinity. Log fixes this. When a = b, a/b = 1 and log(a/b) = 0. Because log(a/b) = -log(b/a), it produces symmetry. This is because log(a/b) = log(a)-log(b), so we are evaluating the algebraic different between (log) values, somewhat similar to bias_diff, but sensibly distributed. "
   ]
  },
  {
   "cell_type": "code",
   "execution_count": 28,
   "metadata": {},
   "outputs": [
    {
     "name": "stdout",
     "output_type": "stream",
     "text": [
      "12328\n"
     ]
    },
    {
     "data": {
      "text/html": [
       "<div>\n",
       "<style scoped>\n",
       "    .dataframe tbody tr th:only-of-type {\n",
       "        vertical-align: middle;\n",
       "    }\n",
       "\n",
       "    .dataframe tbody tr th {\n",
       "        vertical-align: top;\n",
       "    }\n",
       "\n",
       "    .dataframe thead th {\n",
       "        text-align: right;\n",
       "    }\n",
       "</style>\n",
       "<table border=\"1\" class=\"dataframe\">\n",
       "  <thead>\n",
       "    <tr style=\"text-align: right;\">\n",
       "      <th></th>\n",
       "      <th>land_area</th>\n",
       "      <th>place_geoid</th>\n",
       "      <th>place_name</th>\n",
       "      <th>total_pop</th>\n",
       "      <th>median_age</th>\n",
       "      <th>pct_hispanic</th>\n",
       "      <th>pct_white</th>\n",
       "      <th>pct_black</th>\n",
       "      <th>pct_asian</th>\n",
       "      <th>pct_single_fam_detached</th>\n",
       "      <th>...</th>\n",
       "      <th>pct_burden</th>\n",
       "      <th>median_gross_rent_k</th>\n",
       "      <th>med_income_k</th>\n",
       "      <th>med_home_value_k</th>\n",
       "      <th>pct_white_change_2012_2015</th>\n",
       "      <th>clist_count</th>\n",
       "      <th>prop_count</th>\n",
       "      <th>bias_diff</th>\n",
       "      <th>bias_ratio</th>\n",
       "      <th>bias_log</th>\n",
       "    </tr>\n",
       "    <tr>\n",
       "      <th>GEOID</th>\n",
       "      <th></th>\n",
       "      <th></th>\n",
       "      <th></th>\n",
       "      <th></th>\n",
       "      <th></th>\n",
       "      <th></th>\n",
       "      <th></th>\n",
       "      <th></th>\n",
       "      <th></th>\n",
       "      <th></th>\n",
       "      <th></th>\n",
       "      <th></th>\n",
       "      <th></th>\n",
       "      <th></th>\n",
       "      <th></th>\n",
       "      <th></th>\n",
       "      <th></th>\n",
       "      <th></th>\n",
       "      <th></th>\n",
       "      <th></th>\n",
       "      <th></th>\n",
       "    </tr>\n",
       "  </thead>\n",
       "  <tbody>\n",
       "    <tr>\n",
       "      <th>01073000100</th>\n",
       "      <td>7549578</td>\n",
       "      <td>0107000</td>\n",
       "      <td>Birmingham, AL</td>\n",
       "      <td>2970.0</td>\n",
       "      <td>32.2</td>\n",
       "      <td>0.046</td>\n",
       "      <td>0.171</td>\n",
       "      <td>0.785</td>\n",
       "      <td>0.000</td>\n",
       "      <td>0.705</td>\n",
       "      <td>...</td>\n",
       "      <td>0.604</td>\n",
       "      <td>0.754</td>\n",
       "      <td>24.359</td>\n",
       "      <td>68.4</td>\n",
       "      <td>0.014</td>\n",
       "      <td>3</td>\n",
       "      <td>2.150039</td>\n",
       "      <td>0.849961</td>\n",
       "      <td>1.269826</td>\n",
       "      <td>0.238880</td>\n",
       "    </tr>\n",
       "    <tr>\n",
       "      <th>01073000300</th>\n",
       "      <td>2093104</td>\n",
       "      <td>0107000</td>\n",
       "      <td>Birmingham, AL</td>\n",
       "      <td>2494.0</td>\n",
       "      <td>36.5</td>\n",
       "      <td>0.180</td>\n",
       "      <td>0.046</td>\n",
       "      <td>0.672</td>\n",
       "      <td>0.084</td>\n",
       "      <td>0.326</td>\n",
       "      <td>...</td>\n",
       "      <td>0.534</td>\n",
       "      <td>0.552</td>\n",
       "      <td>20.425</td>\n",
       "      <td>65.3</td>\n",
       "      <td>-0.022</td>\n",
       "      <td>1</td>\n",
       "      <td>2.852092</td>\n",
       "      <td>-1.852092</td>\n",
       "      <td>0.519198</td>\n",
       "      <td>-0.655469</td>\n",
       "    </tr>\n",
       "    <tr>\n",
       "      <th>01073000400</th>\n",
       "      <td>8001582</td>\n",
       "      <td>0107000</td>\n",
       "      <td>Birmingham, AL</td>\n",
       "      <td>3437.0</td>\n",
       "      <td>30.6</td>\n",
       "      <td>0.007</td>\n",
       "      <td>0.079</td>\n",
       "      <td>0.908</td>\n",
       "      <td>0.000</td>\n",
       "      <td>0.897</td>\n",
       "      <td>...</td>\n",
       "      <td>0.747</td>\n",
       "      <td>0.912</td>\n",
       "      <td>21.759</td>\n",
       "      <td>60.7</td>\n",
       "      <td>0.025</td>\n",
       "      <td>2</td>\n",
       "      <td>2.120786</td>\n",
       "      <td>-0.120786</td>\n",
       "      <td>0.961296</td>\n",
       "      <td>-0.039473</td>\n",
       "    </tr>\n",
       "    <tr>\n",
       "      <th>01073000500</th>\n",
       "      <td>4819145</td>\n",
       "      <td>0107000</td>\n",
       "      <td>Birmingham, AL</td>\n",
       "      <td>3735.0</td>\n",
       "      <td>35.8</td>\n",
       "      <td>0.014</td>\n",
       "      <td>0.050</td>\n",
       "      <td>0.929</td>\n",
       "      <td>0.000</td>\n",
       "      <td>0.546</td>\n",
       "      <td>...</td>\n",
       "      <td>0.547</td>\n",
       "      <td>0.534</td>\n",
       "      <td>21.430</td>\n",
       "      <td>53.7</td>\n",
       "      <td>0.011</td>\n",
       "      <td>0</td>\n",
       "      <td>3.426167</td>\n",
       "      <td>-3.426167</td>\n",
       "      <td>0.225929</td>\n",
       "      <td>-1.487534</td>\n",
       "    </tr>\n",
       "    <tr>\n",
       "      <th>01073000700</th>\n",
       "      <td>3520564</td>\n",
       "      <td>0107000</td>\n",
       "      <td>Birmingham, AL</td>\n",
       "      <td>2562.0</td>\n",
       "      <td>25.4</td>\n",
       "      <td>0.025</td>\n",
       "      <td>0.000</td>\n",
       "      <td>0.977</td>\n",
       "      <td>0.000</td>\n",
       "      <td>0.569</td>\n",
       "      <td>...</td>\n",
       "      <td>0.773</td>\n",
       "      <td>0.505</td>\n",
       "      <td>15.833</td>\n",
       "      <td>52.4</td>\n",
       "      <td>-0.001</td>\n",
       "      <td>0</td>\n",
       "      <td>2.135412</td>\n",
       "      <td>-2.135412</td>\n",
       "      <td>0.318937</td>\n",
       "      <td>-1.142761</td>\n",
       "    </tr>\n",
       "  </tbody>\n",
       "</table>\n",
       "<p>5 rows × 45 columns</p>\n",
       "</div>"
      ],
      "text/plain": [
       "             land_area place_geoid      place_name  total_pop  median_age  \\\n",
       "GEOID                                                                       \n",
       "01073000100    7549578     0107000  Birmingham, AL     2970.0        32.2   \n",
       "01073000300    2093104     0107000  Birmingham, AL     2494.0        36.5   \n",
       "01073000400    8001582     0107000  Birmingham, AL     3437.0        30.6   \n",
       "01073000500    4819145     0107000  Birmingham, AL     3735.0        35.8   \n",
       "01073000700    3520564     0107000  Birmingham, AL     2562.0        25.4   \n",
       "\n",
       "             pct_hispanic  pct_white  pct_black  pct_asian  \\\n",
       "GEOID                                                        \n",
       "01073000100         0.046      0.171      0.785      0.000   \n",
       "01073000300         0.180      0.046      0.672      0.084   \n",
       "01073000400         0.007      0.079      0.908      0.000   \n",
       "01073000500         0.014      0.050      0.929      0.000   \n",
       "01073000700         0.025      0.000      0.977      0.000   \n",
       "\n",
       "             pct_single_fam_detached    ...     pct_burden  \\\n",
       "GEOID                                   ...                  \n",
       "01073000100                    0.705    ...          0.604   \n",
       "01073000300                    0.326    ...          0.534   \n",
       "01073000400                    0.897    ...          0.747   \n",
       "01073000500                    0.546    ...          0.547   \n",
       "01073000700                    0.569    ...          0.773   \n",
       "\n",
       "             median_gross_rent_k  med_income_k  med_home_value_k  \\\n",
       "GEOID                                                              \n",
       "01073000100                0.754        24.359              68.4   \n",
       "01073000300                0.552        20.425              65.3   \n",
       "01073000400                0.912        21.759              60.7   \n",
       "01073000500                0.534        21.430              53.7   \n",
       "01073000700                0.505        15.833              52.4   \n",
       "\n",
       "             pct_white_change_2012_2015  clist_count  prop_count  bias_diff  \\\n",
       "GEOID                                                                         \n",
       "01073000100                       0.014            3    2.150039   0.849961   \n",
       "01073000300                      -0.022            1    2.852092  -1.852092   \n",
       "01073000400                       0.025            2    2.120786  -0.120786   \n",
       "01073000500                       0.011            0    3.426167  -3.426167   \n",
       "01073000700                      -0.001            0    2.135412  -2.135412   \n",
       "\n",
       "             bias_ratio  bias_log  \n",
       "GEOID                              \n",
       "01073000100    1.269826  0.238880  \n",
       "01073000300    0.519198 -0.655469  \n",
       "01073000400    0.961296 -0.039473  \n",
       "01073000500    0.225929 -1.487534  \n",
       "01073000700    0.318937 -1.142761  \n",
       "\n",
       "[5 rows x 45 columns]"
      ]
     },
     "execution_count": 28,
     "metadata": {},
     "output_type": "execute_result"
    }
   ],
   "source": [
    "# done, show results\n",
    "print(len(tracts))\n",
    "tracts.head()"
   ]
  },
  {
   "cell_type": "code",
   "execution_count": 29,
   "metadata": {},
   "outputs": [
    {
     "data": {
      "text/plain": [
       "['bias_diff',\n",
       " 'bias_log',\n",
       " 'bias_ratio',\n",
       " 'centroid',\n",
       " 'clist_count',\n",
       " 'count_renter_occupied_units',\n",
       " 'county',\n",
       " 'distance_to_center_km',\n",
       " 'geometry',\n",
       " 'land_area',\n",
       " 'lat_city_center',\n",
       " 'lng_city_center',\n",
       " 'mean_travel_time_work',\n",
       " 'med_home_value_k',\n",
       " 'med_income_k',\n",
       " 'med_rooms_in_house',\n",
       " 'median_age',\n",
       " 'median_gross_rent_k',\n",
       " 'pct_20_34',\n",
       " 'pct_asian',\n",
       " 'pct_bachelors_or_higher',\n",
       " 'pct_below_poverty',\n",
       " 'pct_black',\n",
       " 'pct_built_before_1940',\n",
       " 'pct_burden',\n",
       " 'pct_college_grad_student',\n",
       " 'pct_commute_drive_alone',\n",
       " 'pct_english_only',\n",
       " 'pct_foreign_born',\n",
       " 'pct_hispanic',\n",
       " 'pct_nonrelatives_household',\n",
       " 'pct_renting',\n",
       " 'pct_same_residence_year_ago',\n",
       " 'pct_single_fam_detached',\n",
       " 'pct_white',\n",
       " 'pct_white_change_2012_2015',\n",
       " 'place_geoid',\n",
       " 'place_name',\n",
       " 'pop_density_k_km',\n",
       " 'prop_count',\n",
       " 'rental_vacancy_rate',\n",
       " 'renter_household_size',\n",
       " 'renter_occupied_units_km',\n",
       " 'state',\n",
       " 'total_pop']"
      ]
     },
     "execution_count": 29,
     "metadata": {},
     "output_type": "execute_result"
    }
   ],
   "source": [
    "sorted(tracts.columns)"
   ]
  },
  {
   "cell_type": "code",
   "execution_count": 30,
   "metadata": {},
   "outputs": [
    {
     "name": "stdout",
     "output_type": "stream",
     "text": [
      "data/features.csv\n"
     ]
    }
   ],
   "source": [
    "tracts.to_csv(output_path, index=True, encoding='utf-8')\n",
    "print(output_path)"
   ]
  }
 ],
 "metadata": {
  "kernelspec": {
   "display_name": "Python 3",
   "language": "python",
   "name": "python3"
  },
  "language_info": {
   "codemirror_mode": {
    "name": "ipython",
    "version": 3
   },
   "file_extension": ".py",
   "mimetype": "text/x-python",
   "name": "python",
   "nbconvert_exporter": "python",
   "pygments_lexer": "ipython3",
   "version": "3.6.4"
  }
 },
 "nbformat": 4,
 "nbformat_minor": 2
}
